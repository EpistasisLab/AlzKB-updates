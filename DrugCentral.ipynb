{
 "cells": [
  {
   "cell_type": "markdown",
   "metadata": {},
   "source": [
    "# Convert DrugCentral relationships to Rephetio identifiers"
   ]
  },
  {
   "cell_type": "code",
   "execution_count": 1,
   "metadata": {},
   "outputs": [],
   "source": [
    "import urllib\n",
    "import json\n",
    "\n",
    "import pandas"
   ]
  },
  {
   "cell_type": "markdown",
   "metadata": {},
   "source": [
    "## Read DrugBank Slim"
   ]
  },
  {
   "cell_type": "code",
   "execution_count": 2,
   "metadata": {},
   "outputs": [],
   "source": [
    "import os\n",
    "#import csv\n",
    "import gzip\n",
    "import collections\n",
    "#import re\n",
    "#import io\n",
    "import json\n",
    "import xml.etree.ElementTree as ET\n",
    "\n",
    "#import requests\n",
    "import pandas"
   ]
  },
  {
   "cell_type": "code",
   "execution_count": null,
   "metadata": {},
   "outputs": [],
   "source": [
    "#download https://go.drugbank.com/releases/latest \n",
    "download_dir = '../data/DrugCentral'\n",
    "xml_path = os.path.join(download_dir, 'full database.xml')  \n",
    "tree = ET.parse(xml_path)\n",
    "root = tree.getroot()\n",
    "\n",
    "\"\"\"\n",
    "download_dir = '../data/DrugCentral/dhimmel_drugbank'\n",
    "xml_path = os.path.join(download_dir, 'drugbank.xml.gz')  \n",
    "with gzip.open(xml_path) as xml_file:\n",
    "    tree = ET.parse(xml_file)\n",
    "root = tree.getroot()\n",
    "\"\"\""
   ]
  },
  {
   "cell_type": "code",
   "execution_count": 4,
   "metadata": {},
   "outputs": [],
   "source": [
    "ns = '{http://www.drugbank.ca}'\n",
    "inchikey_template = \"{ns}calculated-properties/{ns}property[{ns}kind='InChIKey']/{ns}value\"\n",
    "inchi_template = \"{ns}calculated-properties/{ns}property[{ns}kind='InChI']/{ns}value\"\n",
    "\n",
    "rows = list()\n",
    "for i, drug in enumerate(root):\n",
    "    row = collections.OrderedDict()\n",
    "    assert drug.tag == ns + 'drug'\n",
    "    row['type'] = drug.get('type')\n",
    "    row['drugbank_id'] = drug.findtext(ns + \"drugbank-id[@primary='true']\")\n",
    "    row['name'] = drug.findtext(ns + \"name\")\n",
    "    row['description'] = drug.findtext(ns + \"description\")\n",
    "    row['groups'] = [group.text for group in\n",
    "        drug.findall(\"{ns}groups/{ns}group\".format(ns = ns))]\n",
    "    row['atc_codes'] = [code.get('code') for code in\n",
    "        drug.findall(\"{ns}atc-codes/{ns}atc-code\".format(ns = ns))]\n",
    "    row['categories'] = [x.findtext(ns + 'category') for x in\n",
    "        drug.findall(\"{ns}categories/{ns}category\".format(ns = ns))]\n",
    "    row['inchi'] = drug.findtext(inchi_template.format(ns = ns))\n",
    "    row['inchikey'] = drug.findtext(inchikey_template.format(ns = ns))\n",
    "    \n",
    "    # Add drug aliases\n",
    "    aliases = {\n",
    "        elem.text for elem in \n",
    "        drug.findall(\"{ns}international-brands/{ns}international-brand\".format(ns = ns)) +\n",
    "        drug.findall(\"{ns}synonyms/{ns}synonym[@language='English']\".format(ns = ns)) +\n",
    "        drug.findall(\"{ns}international-brands/{ns}international-brand\".format(ns = ns)) +\n",
    "        drug.findall(\"{ns}products/{ns}product/{ns}name\".format(ns = ns))\n",
    "\n",
    "    }\n",
    "    aliases.add(row['name'])\n",
    "    row['aliases'] = sorted(aliases)\n",
    "\n",
    "    rows.append(row)"
   ]
  },
  {
   "cell_type": "code",
   "execution_count": 5,
   "metadata": {},
   "outputs": [],
   "source": [
    "alias_dict = {row['drugbank_id']: row['aliases'] for row in rows}\n",
    "with open(os.path.join(download_dir, 'aliases.json'), 'w') as fp:\n",
    "    json.dump(alias_dict, fp, indent=2, sort_keys=True)"
   ]
  },
  {
   "cell_type": "code",
   "execution_count": 6,
   "metadata": {},
   "outputs": [],
   "source": [
    "def collapse_list_values(row):\n",
    "    for key, value in row.items():\n",
    "        if isinstance(value, list):\n",
    "            row[key] = '|'.join(value)\n",
    "    return row\n",
    "\n",
    "rows = list(map(collapse_list_values, rows))"
   ]
  },
  {
   "cell_type": "code",
   "execution_count": 7,
   "metadata": {},
   "outputs": [
    {
     "data": {
      "text/plain": [
       "(16581, 9)"
      ]
     },
     "execution_count": 7,
     "metadata": {},
     "output_type": "execute_result"
    }
   ],
   "source": [
    "columns = ['drugbank_id', 'name', 'type', 'groups', 'atc_codes', 'categories', 'inchikey', 'inchi', 'description']\n",
    "drugbank_df = pandas.DataFrame.from_dict(rows)[columns]\n",
    "drugbank_df.shape"
   ]
  },
  {
   "cell_type": "code",
   "execution_count": 8,
   "metadata": {},
   "outputs": [
    {
     "data": {
      "text/plain": [
       "(2778, 9)"
      ]
     },
     "execution_count": 8,
     "metadata": {},
     "output_type": "execute_result"
    }
   ],
   "source": [
    "drugbank_slim_df = drugbank_df[\n",
    "    drugbank_df.groups.map(lambda x: 'approved' in x) &\n",
    "    drugbank_df.inchi.map(lambda x: x is not None) &\n",
    "    drugbank_df.type.map(lambda x: x == 'small molecule')\n",
    "]\n",
    "drugbank_slim_df.shape"
   ]
  },
  {
   "cell_type": "code",
   "execution_count": 9,
   "metadata": {},
   "outputs": [],
   "source": [
    "# write drugbank tsv\n",
    "path = os.path.join(download_dir, 'drugbank.tsv')\n",
    "drugbank_df.to_csv(path, sep='\\t', index=False)\n",
    "\n",
    "# write slim drugbank tsv\n",
    "path = os.path.join(download_dir, 'drugbank-slim.tsv')\n",
    "drugbank_slim_df.to_csv(path, sep='\\t', index=False)"
   ]
  },
  {
   "cell_type": "code",
   "execution_count": 10,
   "metadata": {},
   "outputs": [
    {
     "data": {
      "text/html": [
       "<div>\n",
       "<style scoped>\n",
       "    .dataframe tbody tr th:only-of-type {\n",
       "        vertical-align: middle;\n",
       "    }\n",
       "\n",
       "    .dataframe tbody tr th {\n",
       "        vertical-align: top;\n",
       "    }\n",
       "\n",
       "    .dataframe thead th {\n",
       "        text-align: right;\n",
       "    }\n",
       "</style>\n",
       "<table border=\"1\" class=\"dataframe\">\n",
       "  <thead>\n",
       "    <tr style=\"text-align: right;\">\n",
       "      <th></th>\n",
       "      <th>drugbank_id</th>\n",
       "      <th>drugbank_name</th>\n",
       "    </tr>\n",
       "  </thead>\n",
       "  <tbody>\n",
       "    <tr>\n",
       "      <th>5</th>\n",
       "      <td>DB00006</td>\n",
       "      <td>Bivalirudin</td>\n",
       "    </tr>\n",
       "    <tr>\n",
       "      <th>6</th>\n",
       "      <td>DB00007</td>\n",
       "      <td>Leuprolide</td>\n",
       "    </tr>\n",
       "  </tbody>\n",
       "</table>\n",
       "</div>"
      ],
      "text/plain": [
       "  drugbank_id drugbank_name\n",
       "5     DB00006   Bivalirudin\n",
       "6     DB00007    Leuprolide"
      ]
     },
     "execution_count": 10,
     "metadata": {},
     "output_type": "execute_result"
    }
   ],
   "source": [
    "#url = 'https://github.com/dhimmel/drugbank/raw/55587651ee9417e4621707dac559d84c984cf5fa/data/drugbank-slim.tsv'\n",
    "drugbank_df = drugbank_slim_df #pandas.read_table(url)\n",
    "drugbank_df = drugbank_df[['drugbank_id', 'name']]\n",
    "drugbank_df = drugbank_df.rename(columns={'name': 'drugbank_name'})\n",
    "drugbank_df.head(2)"
   ]
  },
  {
   "cell_type": "code",
   "execution_count": 11,
   "metadata": {},
   "outputs": [
    {
     "data": {
      "text/plain": [
       "2778"
      ]
     },
     "execution_count": 11,
     "metadata": {},
     "output_type": "execute_result"
    }
   ],
   "source": [
    "len(drugbank_df)"
   ]
  },
  {
   "cell_type": "markdown",
   "metadata": {},
   "source": [
    "## Read identifiers"
   ]
  },
  {
   "cell_type": "code",
   "execution_count": 12,
   "metadata": {},
   "outputs": [
    {
     "data": {
      "text/html": [
       "<div>\n",
       "<style scoped>\n",
       "    .dataframe tbody tr th:only-of-type {\n",
       "        vertical-align: middle;\n",
       "    }\n",
       "\n",
       "    .dataframe tbody tr th {\n",
       "        vertical-align: top;\n",
       "    }\n",
       "\n",
       "    .dataframe thead th {\n",
       "        text-align: right;\n",
       "    }\n",
       "</style>\n",
       "<table border=\"1\" class=\"dataframe\">\n",
       "  <thead>\n",
       "    <tr style=\"text-align: right;\">\n",
       "      <th></th>\n",
       "      <th>struct_id</th>\n",
       "      <th>drugbank_id</th>\n",
       "      <th>drugbank_name</th>\n",
       "    </tr>\n",
       "  </thead>\n",
       "  <tbody>\n",
       "    <tr>\n",
       "      <th>0</th>\n",
       "      <td>5392</td>\n",
       "      <td>DB11791</td>\n",
       "      <td>Capmatinib</td>\n",
       "    </tr>\n",
       "    <tr>\n",
       "      <th>1</th>\n",
       "      <td>5393</td>\n",
       "      <td>DB15685</td>\n",
       "      <td>Selpercatinib</td>\n",
       "    </tr>\n",
       "  </tbody>\n",
       "</table>\n",
       "</div>"
      ],
      "text/plain": [
       "   struct_id drugbank_id  drugbank_name\n",
       "0       5392     DB11791     Capmatinib\n",
       "1       5393     DB15685  Selpercatinib"
      ]
     },
     "execution_count": 12,
     "metadata": {},
     "output_type": "execute_result"
    }
   ],
   "source": [
    "path = os.path.join(download_dir, 'identifiers.tsv') #'https://github.com/olegursu/drugtarget/raw/9a6d84bed8650c6c507a2d3d786814c774568610/identifiers.tsv'\n",
    "id_df = pandas.read_table(path,sep=',')\n",
    "id_df = id_df.query(\"id_type == 'DRUGBANK_ID'\")[['struct_id', 'identifier']]\n",
    "id_df = id_df.rename(columns={'identifier': 'drugbank_id'})\n",
    "drugbank_df = id_df.merge(drugbank_df)\n",
    "drugbank_df.head(2)"
   ]
  },
  {
   "cell_type": "code",
   "execution_count": 13,
   "metadata": {},
   "outputs": [
    {
     "data": {
      "text/plain": [
       "2674"
      ]
     },
     "execution_count": 13,
     "metadata": {},
     "output_type": "execute_result"
    }
   ],
   "source": [
    "len(drugbank_df)"
   ]
  },
  {
   "cell_type": "markdown",
   "metadata": {},
   "source": [
    "## Pharmacologic class"
   ]
  },
  {
   "cell_type": "code",
   "execution_count": 14,
   "metadata": {},
   "outputs": [],
   "source": [
    "path = os.path.join(download_dir, 'pharm_class.tsv') #'https://github.com/olegursu/drugtarget/raw/9a6d84bed8650c6c507a2d3d786814c774568610/pharm_class.tsv'\n",
    "class_df = pandas.read_table(path,sep=',')\n",
    "class_df = drugbank_df.merge(class_df)"
   ]
  },
  {
   "cell_type": "code",
   "execution_count": 15,
   "metadata": {},
   "outputs": [
    {
     "data": {
      "text/html": [
       "<div>\n",
       "<style scoped>\n",
       "    .dataframe tbody tr th:only-of-type {\n",
       "        vertical-align: middle;\n",
       "    }\n",
       "\n",
       "    .dataframe tbody tr th {\n",
       "        vertical-align: top;\n",
       "    }\n",
       "\n",
       "    .dataframe thead th {\n",
       "        text-align: right;\n",
       "    }\n",
       "</style>\n",
       "<table border=\"1\" class=\"dataframe\">\n",
       "  <thead>\n",
       "    <tr style=\"text-align: right;\">\n",
       "      <th></th>\n",
       "      <th>drugbank_id</th>\n",
       "      <th>drugbank_name</th>\n",
       "      <th>class_id</th>\n",
       "      <th>class_name</th>\n",
       "    </tr>\n",
       "  </thead>\n",
       "  <tbody>\n",
       "    <tr>\n",
       "      <th>0</th>\n",
       "      <td>DB11791</td>\n",
       "      <td>Capmatinib</td>\n",
       "      <td>N0000175605</td>\n",
       "      <td>Kinase Inhibitor</td>\n",
       "    </tr>\n",
       "    <tr>\n",
       "      <th>1</th>\n",
       "      <td>DB11791</td>\n",
       "      <td>Capmatinib</td>\n",
       "      <td>N0000182138</td>\n",
       "      <td>Cytochrome P450 1A2 Inhibitors</td>\n",
       "    </tr>\n",
       "  </tbody>\n",
       "</table>\n",
       "</div>"
      ],
      "text/plain": [
       "  drugbank_id drugbank_name     class_id                      class_name\n",
       "0     DB11791    Capmatinib  N0000175605                Kinase Inhibitor\n",
       "1     DB11791    Capmatinib  N0000182138  Cytochrome P450 1A2 Inhibitors"
      ]
     },
     "execution_count": 15,
     "metadata": {},
     "output_type": "execute_result"
    }
   ],
   "source": [
    "classes_df = class_df[['type', 'class_code', 'name', 'source']].drop_duplicates()\n",
    "class_df = class_df[['drugbank_id', 'drugbank_name', 'class_code', 'name']]\n",
    "class_df = class_df.rename(columns={'class_code': 'class_id', 'name': 'class_name'})\n",
    "class_df = class_df.drop_duplicates()\n",
    "class_df.head(2)"
   ]
  },
  {
   "cell_type": "code",
   "execution_count": 16,
   "metadata": {},
   "outputs": [
    {
     "data": {
      "text/plain": [
       "1967"
      ]
     },
     "execution_count": 16,
     "metadata": {},
     "output_type": "execute_result"
    }
   ],
   "source": [
    "# Pharmacologic mappings\n",
    "len(classes_df)"
   ]
  },
  {
   "cell_type": "code",
   "execution_count": 17,
   "metadata": {},
   "outputs": [
    {
     "data": {
      "text/plain": [
       "18995"
      ]
     },
     "execution_count": 17,
     "metadata": {},
     "output_type": "execute_result"
    }
   ],
   "source": [
    "# Class to Drug mappings\n",
    "len(class_df)"
   ]
  },
  {
   "cell_type": "code",
   "execution_count": 18,
   "metadata": {},
   "outputs": [
    {
     "data": {
      "text/plain": [
       "array(['EPC', 'MoA', 'CS', 'PA', 'has role', 'PE', 'EXT',\n",
       "       'Chemical/Ingredient'], dtype=object)"
      ]
     },
     "execution_count": 18,
     "metadata": {},
     "output_type": "execute_result"
    }
   ],
   "source": [
    "classes_df['type'].unique()"
   ]
  },
  {
   "cell_type": "code",
   "execution_count": 19,
   "metadata": {},
   "outputs": [
    {
     "data": {
      "text/html": [
       "<div>\n",
       "<style scoped>\n",
       "    .dataframe tbody tr th:only-of-type {\n",
       "        vertical-align: middle;\n",
       "    }\n",
       "\n",
       "    .dataframe tbody tr th {\n",
       "        vertical-align: top;\n",
       "    }\n",
       "\n",
       "    .dataframe thead th {\n",
       "        text-align: right;\n",
       "    }\n",
       "</style>\n",
       "<table border=\"1\" class=\"dataframe\">\n",
       "  <thead>\n",
       "    <tr style=\"text-align: right;\">\n",
       "      <th></th>\n",
       "      <th>class_id</th>\n",
       "      <th>class_name</th>\n",
       "      <th>class_source</th>\n",
       "      <th>class_type</th>\n",
       "      <th>url</th>\n",
       "    </tr>\n",
       "  </thead>\n",
       "  <tbody>\n",
       "    <tr>\n",
       "      <th>19873</th>\n",
       "      <td>CHEBI:102248</td>\n",
       "      <td>EC 1.14.11.29 inhibitors</td>\n",
       "      <td>CHEBI</td>\n",
       "      <td>Application</td>\n",
       "      <td>http://identifiers.org/chebi/CHEBI%3A102248</td>\n",
       "    </tr>\n",
       "    <tr>\n",
       "      <th>10946</th>\n",
       "      <td>CHEBI:110725</td>\n",
       "      <td>histamine 1-methyltransferase inhibitor</td>\n",
       "      <td>CHEBI</td>\n",
       "      <td>Application</td>\n",
       "      <td>http://identifiers.org/chebi/CHEBI%3A110725</td>\n",
       "    </tr>\n",
       "  </tbody>\n",
       "</table>\n",
       "</div>"
      ],
      "text/plain": [
       "           class_id                               class_name class_source  \\\n",
       "19873  CHEBI:102248                 EC 1.14.11.29 inhibitors        CHEBI   \n",
       "10946  CHEBI:110725  histamine 1-methyltransferase inhibitor        CHEBI   \n",
       "\n",
       "        class_type                                          url  \n",
       "19873  Application  http://identifiers.org/chebi/CHEBI%3A102248  \n",
       "10946  Application  http://identifiers.org/chebi/CHEBI%3A110725  "
      ]
     },
     "execution_count": 19,
     "metadata": {},
     "output_type": "execute_result"
    }
   ],
   "source": [
    "class_type_map = {\n",
    "    'MoA': 'Mechanism of Action',\n",
    "    'PE': 'Physiologic Effect',\n",
    "    'CS': 'Chemical Structure',\n",
    "    'EPC': 'FDA Established Pharmacologic Class',\n",
    "    'PA': 'Pharmacological Action',\n",
    "    'has role': 'Application',\n",
    "    'Chemical/Ingredient': 'Chemical/Ingredient',\n",
    "}\n",
    "\n",
    "def get_class_url(class_source, class_id):\n",
    "    \"\"\"Create URLs for pharmacological classes based on their source\"\"\"\n",
    "    class_id = urllib.parse.quote(class_id)\n",
    "    if class_source == 'CHEBI':\n",
    "        return 'http://identifiers.org/chebi/{}'.format(class_id)\n",
    "    if class_source == 'MeSH':\n",
    "        return 'http://identifiers.org/mesh/{}'.format(class_id)\n",
    "    if class_source == 'FDA':\n",
    "        #return 'https://rxnav.nlm.nih.gov/REST/Ndfrt/id?idType=NUI&idString={}'.format(class_id)\n",
    "        # Use bioportal link until something better arises\n",
    "        return 'http://purl.bioontology.org/ontology/NDFRT/{}'.format(class_id)\n",
    "\n",
    "classes_df['class_type'] = classes_df.type.map(class_type_map)\n",
    "del classes_df['type']\n",
    "classes_df = classes_df.sort_values(['class_type', 'class_code'])\n",
    "classes_df = classes_df.rename(columns={'class_code': 'class_id', 'name': 'class_name', 'source': 'class_source'})\n",
    "classes_df['url'] = classes_df.apply(lambda x: get_class_url(x.class_source, x.class_id), axis='columns')\n",
    "classes_df.head(2)"
   ]
  },
  {
   "cell_type": "code",
   "execution_count": 20,
   "metadata": {},
   "outputs": [
    {
     "data": {
      "text/plain": [
       "(18995, 4)"
      ]
     },
     "execution_count": 20,
     "metadata": {},
     "output_type": "execute_result"
    }
   ],
   "source": [
    "class_df.shape"
   ]
  },
  {
   "cell_type": "code",
   "execution_count": 21,
   "metadata": {},
   "outputs": [
    {
     "data": {
      "text/plain": [
       "(1967, 5)"
      ]
     },
     "execution_count": 21,
     "metadata": {},
     "output_type": "execute_result"
    }
   ],
   "source": [
    "classes_df.shape"
   ]
  },
  {
   "cell_type": "code",
   "execution_count": 22,
   "metadata": {},
   "outputs": [],
   "source": [
    "class_df.to_csv(os.path.join(download_dir, 'drug-to-class.tsv'), sep='\\t', index=False)\n",
    "classes_df.to_csv(os.path.join(download_dir, 'classes.tsv'), sep='\\t', index=False)"
   ]
  },
  {
   "cell_type": "code",
   "execution_count": 1,
   "metadata": {},
   "outputs": [
    {
     "data": {
      "text/plain": [
       "(1967, 5)"
      ]
     },
     "execution_count": 1,
     "metadata": {},
     "output_type": "execute_result"
    }
   ],
   "source": [
    "import pandas\n",
    "import os\n",
    "download_dir = '../data/DrugCentral'\n",
    "classes_df = pandas.read_table(os.path.join(download_dir, 'classes.tsv'))\n",
    "classes_df.shape"
   ]
  },
  {
   "cell_type": "code",
   "execution_count": 3,
   "metadata": {},
   "outputs": [
    {
     "data": {
      "text/plain": [
       "(478, 5)"
      ]
     },
     "execution_count": 3,
     "metadata": {},
     "output_type": "execute_result"
    }
   ],
   "source": [
    "class_types = {'Physiologic Effect', 'Mechanism of Action', 'Chemical/Ingredient', 'Chemical Structure'}\n",
    "classes_df = classes_df.query(\"class_type in @class_types\")\n",
    "classes_df.shape"
   ]
  },
  {
   "cell_type": "code",
   "execution_count": 4,
   "metadata": {},
   "outputs": [
    {
     "data": {
      "text/plain": [
       "array(['Chemical Structure', 'Chemical/Ingredient', 'Mechanism of Action',\n",
       "       'Physiologic Effect'], dtype=object)"
      ]
     },
     "execution_count": 4,
     "metadata": {},
     "output_type": "execute_result"
    }
   ],
   "source": [
    "classes_df['class_type'].unique()"
   ]
  },
  {
   "cell_type": "code",
   "execution_count": 23,
   "metadata": {},
   "outputs": [
    {
     "data": {
      "text/plain": [
       "array(['Application', 'Chemical/Ingredient',\n",
       "       'FDA Established Pharmacologic Class', 'Mechanism of Action',\n",
       "       'Pharmacological Action', 'Physiologic Effect'], dtype=object)"
      ]
     },
     "execution_count": 23,
     "metadata": {},
     "output_type": "execute_result"
    }
   ],
   "source": [
    "#compare with hetionet version  345 drugclass\n",
    "DrugClass_hetionet = pandas.read_table('https://raw.githubusercontent.com/dhimmel/drugcentral/master/rephetio/classes.tsv') \n",
    "DrugClass_hetionet['class_type'].unique()"
   ]
  },
  {
   "cell_type": "code",
   "execution_count": 24,
   "metadata": {},
   "outputs": [
    {
     "data": {
      "text/plain": [
       "(345, 5)"
      ]
     },
     "execution_count": 24,
     "metadata": {},
     "output_type": "execute_result"
    }
   ],
   "source": [
    "class_types = {'Physiologic Effect', 'Mechanism of Action', 'Chemical/Ingredient'}\n",
    "DrugClass_hetionet = DrugClass_hetionet.query(\"class_type in @class_types\")\n",
    "DrugClass_hetionet.shape"
   ]
  },
  {
   "cell_type": "code",
   "execution_count": 29,
   "metadata": {},
   "outputs": [
    {
     "data": {
      "text/html": [
       "<div>\n",
       "<style scoped>\n",
       "    .dataframe tbody tr th:only-of-type {\n",
       "        vertical-align: middle;\n",
       "    }\n",
       "\n",
       "    .dataframe tbody tr th {\n",
       "        vertical-align: top;\n",
       "    }\n",
       "\n",
       "    .dataframe thead th {\n",
       "        text-align: right;\n",
       "    }\n",
       "</style>\n",
       "<table border=\"1\" class=\"dataframe\">\n",
       "  <thead>\n",
       "    <tr style=\"text-align: right;\">\n",
       "      <th></th>\n",
       "      <th>class_name</th>\n",
       "      <th>_merge</th>\n",
       "    </tr>\n",
       "  </thead>\n",
       "  <tbody>\n",
       "    <tr>\n",
       "      <th>0</th>\n",
       "      <td>Adrenocorticotropic Hormone</td>\n",
       "      <td>left_only</td>\n",
       "    </tr>\n",
       "    <tr>\n",
       "      <th>1</th>\n",
       "      <td>Alkaloids</td>\n",
       "      <td>left_only</td>\n",
       "    </tr>\n",
       "    <tr>\n",
       "      <th>2</th>\n",
       "      <td>Allergens</td>\n",
       "      <td>both</td>\n",
       "    </tr>\n",
       "    <tr>\n",
       "      <th>3</th>\n",
       "      <td>Allylamine</td>\n",
       "      <td>both</td>\n",
       "    </tr>\n",
       "    <tr>\n",
       "      <th>4</th>\n",
       "      <td>Amides</td>\n",
       "      <td>both</td>\n",
       "    </tr>\n",
       "    <tr>\n",
       "      <th>...</th>\n",
       "      <td>...</td>\n",
       "      <td>...</td>\n",
       "    </tr>\n",
       "    <tr>\n",
       "      <th>486</th>\n",
       "      <td>Methylated Sulfonamides</td>\n",
       "      <td>right_only</td>\n",
       "    </tr>\n",
       "    <tr>\n",
       "      <th>487</th>\n",
       "      <td>Nonsteroidal Anti-inflammatory Compounds</td>\n",
       "      <td>right_only</td>\n",
       "    </tr>\n",
       "    <tr>\n",
       "      <th>488</th>\n",
       "      <td>Antidiuretic Hormone Antagonists</td>\n",
       "      <td>right_only</td>\n",
       "    </tr>\n",
       "    <tr>\n",
       "      <th>489</th>\n",
       "      <td>Bile-acid Binding Activity</td>\n",
       "      <td>right_only</td>\n",
       "    </tr>\n",
       "    <tr>\n",
       "      <th>490</th>\n",
       "      <td>Thrombopoietin Receptor Interactions</td>\n",
       "      <td>right_only</td>\n",
       "    </tr>\n",
       "  </tbody>\n",
       "</table>\n",
       "<p>491 rows × 2 columns</p>\n",
       "</div>"
      ],
      "text/plain": [
       "                                   class_name      _merge\n",
       "0                 Adrenocorticotropic Hormone   left_only\n",
       "1                                   Alkaloids   left_only\n",
       "2                                   Allergens        both\n",
       "3                                  Allylamine        both\n",
       "4                                      Amides        both\n",
       "..                                        ...         ...\n",
       "486                   Methylated Sulfonamides  right_only\n",
       "487  Nonsteroidal Anti-inflammatory Compounds  right_only\n",
       "488          Antidiuretic Hormone Antagonists  right_only\n",
       "489                Bile-acid Binding Activity  right_only\n",
       "490      Thrombopoietin Receptor Interactions  right_only\n",
       "\n",
       "[491 rows x 2 columns]"
      ]
     },
     "execution_count": 29,
     "metadata": {},
     "output_type": "execute_result"
    }
   ],
   "source": [
    "df_merge = classes_df[['class_name']].merge(DrugClass_hetionet[['class_name']], how='outer', indicator=True )\n",
    "df_merge"
   ]
  },
  {
   "cell_type": "code",
   "execution_count": 19,
   "metadata": {},
   "outputs": [
    {
     "data": {
      "text/html": [
       "<div>\n",
       "<style scoped>\n",
       "    .dataframe tbody tr th:only-of-type {\n",
       "        vertical-align: middle;\n",
       "    }\n",
       "\n",
       "    .dataframe tbody tr th {\n",
       "        vertical-align: top;\n",
       "    }\n",
       "\n",
       "    .dataframe thead th {\n",
       "        text-align: right;\n",
       "    }\n",
       "</style>\n",
       "<table border=\"1\" class=\"dataframe\">\n",
       "  <thead>\n",
       "    <tr style=\"text-align: right;\">\n",
       "      <th></th>\n",
       "      <th>class_name</th>\n",
       "      <th>class_source</th>\n",
       "      <th>_merge</th>\n",
       "    </tr>\n",
       "  </thead>\n",
       "  <tbody>\n",
       "    <tr>\n",
       "      <th>0</th>\n",
       "      <td>Adrenocorticotropic Hormone</td>\n",
       "      <td>FDA</td>\n",
       "      <td>left_only</td>\n",
       "    </tr>\n",
       "    <tr>\n",
       "      <th>1</th>\n",
       "      <td>Alkaloids</td>\n",
       "      <td>FDA</td>\n",
       "      <td>left_only</td>\n",
       "    </tr>\n",
       "    <tr>\n",
       "      <th>2</th>\n",
       "      <td>Allergens</td>\n",
       "      <td>FDA</td>\n",
       "      <td>both</td>\n",
       "    </tr>\n",
       "    <tr>\n",
       "      <th>3</th>\n",
       "      <td>Allylamine</td>\n",
       "      <td>FDA</td>\n",
       "      <td>both</td>\n",
       "    </tr>\n",
       "    <tr>\n",
       "      <th>4</th>\n",
       "      <td>Amides</td>\n",
       "      <td>FDA</td>\n",
       "      <td>both</td>\n",
       "    </tr>\n",
       "    <tr>\n",
       "      <th>...</th>\n",
       "      <td>...</td>\n",
       "      <td>...</td>\n",
       "      <td>...</td>\n",
       "    </tr>\n",
       "    <tr>\n",
       "      <th>486</th>\n",
       "      <td>Methylated Sulfonamides</td>\n",
       "      <td>FDA</td>\n",
       "      <td>right_only</td>\n",
       "    </tr>\n",
       "    <tr>\n",
       "      <th>487</th>\n",
       "      <td>Nonsteroidal Anti-inflammatory Compounds</td>\n",
       "      <td>FDA</td>\n",
       "      <td>right_only</td>\n",
       "    </tr>\n",
       "    <tr>\n",
       "      <th>488</th>\n",
       "      <td>Antidiuretic Hormone Antagonists</td>\n",
       "      <td>FDA</td>\n",
       "      <td>right_only</td>\n",
       "    </tr>\n",
       "    <tr>\n",
       "      <th>489</th>\n",
       "      <td>Bile-acid Binding Activity</td>\n",
       "      <td>FDA</td>\n",
       "      <td>right_only</td>\n",
       "    </tr>\n",
       "    <tr>\n",
       "      <th>490</th>\n",
       "      <td>Thrombopoietin Receptor Interactions</td>\n",
       "      <td>FDA</td>\n",
       "      <td>right_only</td>\n",
       "    </tr>\n",
       "  </tbody>\n",
       "</table>\n",
       "<p>491 rows × 3 columns</p>\n",
       "</div>"
      ],
      "text/plain": [
       "                                   class_name class_source      _merge\n",
       "0                 Adrenocorticotropic Hormone          FDA   left_only\n",
       "1                                   Alkaloids          FDA   left_only\n",
       "2                                   Allergens          FDA        both\n",
       "3                                  Allylamine          FDA        both\n",
       "4                                      Amides          FDA        both\n",
       "..                                        ...          ...         ...\n",
       "486                   Methylated Sulfonamides          FDA  right_only\n",
       "487  Nonsteroidal Anti-inflammatory Compounds          FDA  right_only\n",
       "488          Antidiuretic Hormone Antagonists          FDA  right_only\n",
       "489                Bile-acid Binding Activity          FDA  right_only\n",
       "490      Thrombopoietin Receptor Interactions          FDA  right_only\n",
       "\n",
       "[491 rows x 3 columns]"
      ]
     },
     "execution_count": 19,
     "metadata": {},
     "output_type": "execute_result"
    }
   ],
   "source": [
    "df_merge = classes_df[['class_name','class_source']].merge(DrugClass_hetionet[['class_name','class_source']], how='outer', indicator=True )\n",
    "df_merge"
   ]
  },
  {
   "cell_type": "code",
   "execution_count": 30,
   "metadata": {},
   "outputs": [
    {
     "data": {
      "text/html": [
       "<div>\n",
       "<style scoped>\n",
       "    .dataframe tbody tr th:only-of-type {\n",
       "        vertical-align: middle;\n",
       "    }\n",
       "\n",
       "    .dataframe tbody tr th {\n",
       "        vertical-align: top;\n",
       "    }\n",
       "\n",
       "    .dataframe thead th {\n",
       "        text-align: right;\n",
       "    }\n",
       "</style>\n",
       "<table border=\"1\" class=\"dataframe\">\n",
       "  <thead>\n",
       "    <tr style=\"text-align: right;\">\n",
       "      <th></th>\n",
       "      <th>class_name</th>\n",
       "      <th>_merge</th>\n",
       "    </tr>\n",
       "  </thead>\n",
       "  <tbody>\n",
       "    <tr>\n",
       "      <th>2</th>\n",
       "      <td>Allergens</td>\n",
       "      <td>both</td>\n",
       "    </tr>\n",
       "    <tr>\n",
       "      <th>3</th>\n",
       "      <td>Allylamine</td>\n",
       "      <td>both</td>\n",
       "    </tr>\n",
       "    <tr>\n",
       "      <th>4</th>\n",
       "      <td>Amides</td>\n",
       "      <td>both</td>\n",
       "    </tr>\n",
       "    <tr>\n",
       "      <th>5</th>\n",
       "      <td>Amino Acids</td>\n",
       "      <td>both</td>\n",
       "    </tr>\n",
       "    <tr>\n",
       "      <th>6</th>\n",
       "      <td>Aminoglycosides</td>\n",
       "      <td>both</td>\n",
       "    </tr>\n",
       "    <tr>\n",
       "      <th>...</th>\n",
       "      <td>...</td>\n",
       "      <td>...</td>\n",
       "    </tr>\n",
       "    <tr>\n",
       "      <th>471</th>\n",
       "      <td>Reversed Anticoagulation Activity</td>\n",
       "      <td>both</td>\n",
       "    </tr>\n",
       "    <tr>\n",
       "      <th>472</th>\n",
       "      <td>Increased Hematopoietic Stem Cell Mobilization</td>\n",
       "      <td>both</td>\n",
       "    </tr>\n",
       "    <tr>\n",
       "      <th>473</th>\n",
       "      <td>Decreased Blood Pressure</td>\n",
       "      <td>both</td>\n",
       "    </tr>\n",
       "    <tr>\n",
       "      <th>474</th>\n",
       "      <td>Increased Blood Pressure</td>\n",
       "      <td>both</td>\n",
       "    </tr>\n",
       "    <tr>\n",
       "      <th>475</th>\n",
       "      <td>Cell-mediated Immunity</td>\n",
       "      <td>both</td>\n",
       "    </tr>\n",
       "  </tbody>\n",
       "</table>\n",
       "<p>336 rows × 2 columns</p>\n",
       "</div>"
      ],
      "text/plain": [
       "                                         class_name _merge\n",
       "2                                         Allergens   both\n",
       "3                                        Allylamine   both\n",
       "4                                            Amides   both\n",
       "5                                       Amino Acids   both\n",
       "6                                   Aminoglycosides   both\n",
       "..                                              ...    ...\n",
       "471               Reversed Anticoagulation Activity   both\n",
       "472  Increased Hematopoietic Stem Cell Mobilization   both\n",
       "473                        Decreased Blood Pressure   both\n",
       "474                        Increased Blood Pressure   both\n",
       "475                          Cell-mediated Immunity   both\n",
       "\n",
       "[336 rows x 2 columns]"
      ]
     },
     "execution_count": 30,
     "metadata": {},
     "output_type": "execute_result"
    }
   ],
   "source": [
    "df_merge[df_merge['_merge']=='both']"
   ]
  },
  {
   "cell_type": "code",
   "execution_count": 31,
   "metadata": {},
   "outputs": [
    {
     "data": {
      "text/html": [
       "<div>\n",
       "<style scoped>\n",
       "    .dataframe tbody tr th:only-of-type {\n",
       "        vertical-align: middle;\n",
       "    }\n",
       "\n",
       "    .dataframe tbody tr th {\n",
       "        vertical-align: top;\n",
       "    }\n",
       "\n",
       "    .dataframe thead th {\n",
       "        text-align: right;\n",
       "    }\n",
       "</style>\n",
       "<table border=\"1\" class=\"dataframe\">\n",
       "  <thead>\n",
       "    <tr style=\"text-align: right;\">\n",
       "      <th></th>\n",
       "      <th>class_name</th>\n",
       "      <th>_merge</th>\n",
       "    </tr>\n",
       "  </thead>\n",
       "  <tbody>\n",
       "    <tr>\n",
       "      <th>0</th>\n",
       "      <td>Adrenocorticotropic Hormone</td>\n",
       "      <td>left_only</td>\n",
       "    </tr>\n",
       "    <tr>\n",
       "      <th>1</th>\n",
       "      <td>Alkaloids</td>\n",
       "      <td>left_only</td>\n",
       "    </tr>\n",
       "    <tr>\n",
       "      <th>10</th>\n",
       "      <td>Anthelmintics</td>\n",
       "      <td>left_only</td>\n",
       "    </tr>\n",
       "    <tr>\n",
       "      <th>11</th>\n",
       "      <td>Anti-Inflammatory Agents, Non-Steroidal</td>\n",
       "      <td>left_only</td>\n",
       "    </tr>\n",
       "    <tr>\n",
       "      <th>12</th>\n",
       "      <td>Ascorbic Acid</td>\n",
       "      <td>left_only</td>\n",
       "    </tr>\n",
       "    <tr>\n",
       "      <th>...</th>\n",
       "      <td>...</td>\n",
       "      <td>...</td>\n",
       "    </tr>\n",
       "    <tr>\n",
       "      <th>439</th>\n",
       "      <td>Skin Barrier Activity</td>\n",
       "      <td>left_only</td>\n",
       "    </tr>\n",
       "    <tr>\n",
       "      <th>442</th>\n",
       "      <td>Decreased Diuresis</td>\n",
       "      <td>left_only</td>\n",
       "    </tr>\n",
       "    <tr>\n",
       "      <th>456</th>\n",
       "      <td>Neuromuscular Blockade</td>\n",
       "      <td>left_only</td>\n",
       "    </tr>\n",
       "    <tr>\n",
       "      <th>476</th>\n",
       "      <td>Increased IgG Production</td>\n",
       "      <td>left_only</td>\n",
       "    </tr>\n",
       "    <tr>\n",
       "      <th>477</th>\n",
       "      <td>Decreased Prothrombin Activity</td>\n",
       "      <td>left_only</td>\n",
       "    </tr>\n",
       "  </tbody>\n",
       "</table>\n",
       "<p>142 rows × 2 columns</p>\n",
       "</div>"
      ],
      "text/plain": [
       "                                  class_name     _merge\n",
       "0                Adrenocorticotropic Hormone  left_only\n",
       "1                                  Alkaloids  left_only\n",
       "10                             Anthelmintics  left_only\n",
       "11   Anti-Inflammatory Agents, Non-Steroidal  left_only\n",
       "12                             Ascorbic Acid  left_only\n",
       "..                                       ...        ...\n",
       "439                    Skin Barrier Activity  left_only\n",
       "442                       Decreased Diuresis  left_only\n",
       "456                   Neuromuscular Blockade  left_only\n",
       "476                 Increased IgG Production  left_only\n",
       "477           Decreased Prothrombin Activity  left_only\n",
       "\n",
       "[142 rows x 2 columns]"
      ]
     },
     "execution_count": 31,
     "metadata": {},
     "output_type": "execute_result"
    }
   ],
   "source": [
    "df_merge[df_merge['_merge']=='left_only']"
   ]
  },
  {
   "cell_type": "code",
   "execution_count": 32,
   "metadata": {},
   "outputs": [
    {
     "data": {
      "text/plain": [
       "(13, 2)"
      ]
     },
     "execution_count": 32,
     "metadata": {},
     "output_type": "execute_result"
    }
   ],
   "source": [
    "check = df_merge[df_merge['_merge']=='right_only']\n",
    "check.shape"
   ]
  },
  {
   "cell_type": "code",
   "execution_count": 33,
   "metadata": {},
   "outputs": [
    {
     "data": {
      "text/html": [
       "<div>\n",
       "<style scoped>\n",
       "    .dataframe tbody tr th:only-of-type {\n",
       "        vertical-align: middle;\n",
       "    }\n",
       "\n",
       "    .dataframe tbody tr th {\n",
       "        vertical-align: top;\n",
       "    }\n",
       "\n",
       "    .dataframe thead th {\n",
       "        text-align: right;\n",
       "    }\n",
       "</style>\n",
       "<table border=\"1\" class=\"dataframe\">\n",
       "  <thead>\n",
       "    <tr style=\"text-align: right;\">\n",
       "      <th></th>\n",
       "      <th>class_name</th>\n",
       "      <th>_merge</th>\n",
       "      <th>class_id</th>\n",
       "      <th>class_source</th>\n",
       "      <th>class_type</th>\n",
       "      <th>url</th>\n",
       "    </tr>\n",
       "  </thead>\n",
       "  <tbody>\n",
       "    <tr>\n",
       "      <th>0</th>\n",
       "      <td>Heparin, Low-Molecular-Weight</td>\n",
       "      <td>right_only</td>\n",
       "      <td>N0000007961</td>\n",
       "      <td>FDA</td>\n",
       "      <td>Chemical/Ingredient</td>\n",
       "      <td>http://purl.bioontology.org/ontology/NDFRT/N00...</td>\n",
       "    </tr>\n",
       "    <tr>\n",
       "      <th>1</th>\n",
       "      <td>Estrogens, Conjugated (USP)</td>\n",
       "      <td>right_only</td>\n",
       "      <td>N0000167510</td>\n",
       "      <td>FDA</td>\n",
       "      <td>Chemical/Ingredient</td>\n",
       "      <td>http://purl.bioontology.org/ontology/NDFRT/N00...</td>\n",
       "    </tr>\n",
       "    <tr>\n",
       "      <th>2</th>\n",
       "      <td>Platinum-containing Compounds</td>\n",
       "      <td>right_only</td>\n",
       "      <td>N0000175073</td>\n",
       "      <td>FDA</td>\n",
       "      <td>Chemical/Ingredient</td>\n",
       "      <td>http://purl.bioontology.org/ontology/NDFRT/N00...</td>\n",
       "    </tr>\n",
       "    <tr>\n",
       "      <th>3</th>\n",
       "      <td>pleuromutilin</td>\n",
       "      <td>right_only</td>\n",
       "      <td>N0000175433</td>\n",
       "      <td>FDA</td>\n",
       "      <td>Chemical/Ingredient</td>\n",
       "      <td>http://purl.bioontology.org/ontology/NDFRT/N00...</td>\n",
       "    </tr>\n",
       "    <tr>\n",
       "      <th>4</th>\n",
       "      <td>Nucleoside Analog</td>\n",
       "      <td>right_only</td>\n",
       "      <td>N0000175459</td>\n",
       "      <td>FDA</td>\n",
       "      <td>Chemical/Ingredient</td>\n",
       "      <td>http://purl.bioontology.org/ontology/NDFRT/N00...</td>\n",
       "    </tr>\n",
       "    <tr>\n",
       "      <th>5</th>\n",
       "      <td>Non-Nucleoside Analog</td>\n",
       "      <td>right_only</td>\n",
       "      <td>N0000175460</td>\n",
       "      <td>FDA</td>\n",
       "      <td>Chemical/Ingredient</td>\n",
       "      <td>http://purl.bioontology.org/ontology/NDFRT/N00...</td>\n",
       "    </tr>\n",
       "    <tr>\n",
       "      <th>6</th>\n",
       "      <td>Pyrophosphate Analog</td>\n",
       "      <td>right_only</td>\n",
       "      <td>N0000175469</td>\n",
       "      <td>FDA</td>\n",
       "      <td>Chemical/Ingredient</td>\n",
       "      <td>http://purl.bioontology.org/ontology/NDFRT/N00...</td>\n",
       "    </tr>\n",
       "    <tr>\n",
       "      <th>7</th>\n",
       "      <td>Amphenicols</td>\n",
       "      <td>right_only</td>\n",
       "      <td>N0000175479</td>\n",
       "      <td>FDA</td>\n",
       "      <td>Chemical/Ingredient</td>\n",
       "      <td>http://purl.bioontology.org/ontology/NDFRT/N00...</td>\n",
       "    </tr>\n",
       "    <tr>\n",
       "      <th>8</th>\n",
       "      <td>Methylated Sulfonamides</td>\n",
       "      <td>right_only</td>\n",
       "      <td>N0000175512</td>\n",
       "      <td>FDA</td>\n",
       "      <td>Chemical/Ingredient</td>\n",
       "      <td>http://purl.bioontology.org/ontology/NDFRT/N00...</td>\n",
       "    </tr>\n",
       "    <tr>\n",
       "      <th>9</th>\n",
       "      <td>Nonsteroidal Anti-inflammatory Compounds</td>\n",
       "      <td>right_only</td>\n",
       "      <td>N0000175721</td>\n",
       "      <td>FDA</td>\n",
       "      <td>Chemical/Ingredient</td>\n",
       "      <td>http://purl.bioontology.org/ontology/NDFRT/N00...</td>\n",
       "    </tr>\n",
       "    <tr>\n",
       "      <th>10</th>\n",
       "      <td>Antidiuretic Hormone Antagonists</td>\n",
       "      <td>right_only</td>\n",
       "      <td>N0000009945</td>\n",
       "      <td>FDA</td>\n",
       "      <td>Mechanism of Action</td>\n",
       "      <td>http://purl.bioontology.org/ontology/NDFRT/N00...</td>\n",
       "    </tr>\n",
       "    <tr>\n",
       "      <th>11</th>\n",
       "      <td>Bile-acid Binding Activity</td>\n",
       "      <td>right_only</td>\n",
       "      <td>N0000175365</td>\n",
       "      <td>FDA</td>\n",
       "      <td>Mechanism of Action</td>\n",
       "      <td>http://purl.bioontology.org/ontology/NDFRT/N00...</td>\n",
       "    </tr>\n",
       "    <tr>\n",
       "      <th>12</th>\n",
       "      <td>Thrombopoietin Receptor Interactions</td>\n",
       "      <td>right_only</td>\n",
       "      <td>N0000175967</td>\n",
       "      <td>FDA</td>\n",
       "      <td>Mechanism of Action</td>\n",
       "      <td>http://purl.bioontology.org/ontology/NDFRT/N00...</td>\n",
       "    </tr>\n",
       "  </tbody>\n",
       "</table>\n",
       "</div>"
      ],
      "text/plain": [
       "                                  class_name      _merge     class_id  \\\n",
       "0              Heparin, Low-Molecular-Weight  right_only  N0000007961   \n",
       "1                Estrogens, Conjugated (USP)  right_only  N0000167510   \n",
       "2              Platinum-containing Compounds  right_only  N0000175073   \n",
       "3                              pleuromutilin  right_only  N0000175433   \n",
       "4                          Nucleoside Analog  right_only  N0000175459   \n",
       "5                      Non-Nucleoside Analog  right_only  N0000175460   \n",
       "6                       Pyrophosphate Analog  right_only  N0000175469   \n",
       "7                                Amphenicols  right_only  N0000175479   \n",
       "8                    Methylated Sulfonamides  right_only  N0000175512   \n",
       "9   Nonsteroidal Anti-inflammatory Compounds  right_only  N0000175721   \n",
       "10          Antidiuretic Hormone Antagonists  right_only  N0000009945   \n",
       "11                Bile-acid Binding Activity  right_only  N0000175365   \n",
       "12      Thrombopoietin Receptor Interactions  right_only  N0000175967   \n",
       "\n",
       "   class_source           class_type  \\\n",
       "0           FDA  Chemical/Ingredient   \n",
       "1           FDA  Chemical/Ingredient   \n",
       "2           FDA  Chemical/Ingredient   \n",
       "3           FDA  Chemical/Ingredient   \n",
       "4           FDA  Chemical/Ingredient   \n",
       "5           FDA  Chemical/Ingredient   \n",
       "6           FDA  Chemical/Ingredient   \n",
       "7           FDA  Chemical/Ingredient   \n",
       "8           FDA  Chemical/Ingredient   \n",
       "9           FDA  Chemical/Ingredient   \n",
       "10          FDA  Mechanism of Action   \n",
       "11          FDA  Mechanism of Action   \n",
       "12          FDA  Mechanism of Action   \n",
       "\n",
       "                                                  url  \n",
       "0   http://purl.bioontology.org/ontology/NDFRT/N00...  \n",
       "1   http://purl.bioontology.org/ontology/NDFRT/N00...  \n",
       "2   http://purl.bioontology.org/ontology/NDFRT/N00...  \n",
       "3   http://purl.bioontology.org/ontology/NDFRT/N00...  \n",
       "4   http://purl.bioontology.org/ontology/NDFRT/N00...  \n",
       "5   http://purl.bioontology.org/ontology/NDFRT/N00...  \n",
       "6   http://purl.bioontology.org/ontology/NDFRT/N00...  \n",
       "7   http://purl.bioontology.org/ontology/NDFRT/N00...  \n",
       "8   http://purl.bioontology.org/ontology/NDFRT/N00...  \n",
       "9   http://purl.bioontology.org/ontology/NDFRT/N00...  \n",
       "10  http://purl.bioontology.org/ontology/NDFRT/N00...  \n",
       "11  http://purl.bioontology.org/ontology/NDFRT/N00...  \n",
       "12  http://purl.bioontology.org/ontology/NDFRT/N00...  "
      ]
     },
     "execution_count": 33,
     "metadata": {},
     "output_type": "execute_result"
    }
   ],
   "source": [
    "# check if the above 13 classes have drug connected to it in current alzkb\n",
    "check.merge(DrugClass_hetionet,how='left')#['class_id'].to_list()"
   ]
  },
  {
   "cell_type": "code",
   "execution_count": 48,
   "metadata": {},
   "outputs": [
    {
     "data": {
      "text/plain": [
       "array(['Chemical/Ingredient', 'Mechanism of Action', 'Physiologic Effect'],\n",
       "      dtype=object)"
      ]
     },
     "execution_count": 48,
     "metadata": {},
     "output_type": "execute_result"
    }
   ],
   "source": [
    "DrugClass_hetionet['class_type'].unique()"
   ]
  },
  {
   "cell_type": "code",
   "execution_count": 34,
   "metadata": {},
   "outputs": [
    {
     "data": {
      "text/html": [
       "<div>\n",
       "<style scoped>\n",
       "    .dataframe tbody tr th:only-of-type {\n",
       "        vertical-align: middle;\n",
       "    }\n",
       "\n",
       "    .dataframe tbody tr th {\n",
       "        vertical-align: top;\n",
       "    }\n",
       "\n",
       "    .dataframe thead th {\n",
       "        text-align: right;\n",
       "    }\n",
       "</style>\n",
       "<table border=\"1\" class=\"dataframe\">\n",
       "  <thead>\n",
       "    <tr style=\"text-align: right;\">\n",
       "      <th></th>\n",
       "      <th>id</th>\n",
       "      <th>struct_id</th>\n",
       "      <th>type</th>\n",
       "      <th>name</th>\n",
       "      <th>class_code</th>\n",
       "      <th>source</th>\n",
       "    </tr>\n",
       "  </thead>\n",
       "  <tbody>\n",
       "  </tbody>\n",
       "</table>\n",
       "</div>"
      ],
      "text/plain": [
       "Empty DataFrame\n",
       "Columns: [id, struct_id, type, name, class_code, source]\n",
       "Index: []"
      ]
     },
     "execution_count": 34,
     "metadata": {},
     "output_type": "execute_result"
    }
   ],
   "source": [
    "path = os.path.join(download_dir, 'pharm_class.tsv') #'https://github.com/olegursu/drugtarget/raw/9a6d84bed8650c6c507a2d3d786814c774568610/pharm_class.tsv'\n",
    "check = pandas.read_table(path,sep=',')\n",
    "check[check['class_code']=='N0000007961']"
   ]
  },
  {
   "cell_type": "code",
   "execution_count": null,
   "metadata": {},
   "outputs": [],
   "source": []
  }
 ],
 "metadata": {
  "kernelspec": {
   "display_name": "Python 3 (ipykernel)",
   "language": "python",
   "name": "python3"
  },
  "language_info": {
   "codemirror_mode": {
    "name": "ipython",
    "version": 3
   },
   "file_extension": ".py",
   "mimetype": "text/x-python",
   "name": "python",
   "nbconvert_exporter": "python",
   "pygments_lexer": "ipython3",
   "version": "3.9.13"
  }
 },
 "nbformat": 4,
 "nbformat_minor": 1
}
