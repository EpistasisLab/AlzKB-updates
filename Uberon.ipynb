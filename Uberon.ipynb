{
 "cells": [
  {
   "cell_type": "markdown",
   "metadata": {},
   "source": [
    "## human-constraint"
   ]
  },
  {
   "cell_type": "code",
   "execution_count": 11,
   "metadata": {},
   "outputs": [],
   "source": [
    "import pandas\n",
    "import obonet\n",
    "import os"
   ]
  },
  {
   "cell_type": "code",
   "execution_count": 12,
   "metadata": {},
   "outputs": [],
   "source": [
    "download_dir ='../data/Uberon'"
   ]
  },
  {
   "cell_type": "code",
   "execution_count": 13,
   "metadata": {},
   "outputs": [
    {
     "name": "stdout",
     "output_type": "stream",
     "text": [
      "14769\n",
      "35165\n"
     ]
    }
   ],
   "source": [
    "# Read the ontology into a networkx MultiDiGraph\n",
    "path = os.path.join(download_dir, 'uberon-basic.obo') #uberon-basic.obo\n",
    "with open(path) as obo_file:\n",
    "    ontology = obonet.read_obo(obo_file)\n",
    "\n",
    "print(ontology.number_of_nodes())\n",
    "print(ontology.number_of_edges())"
   ]
  },
  {
   "cell_type": "code",
   "execution_count": 14,
   "metadata": {},
   "outputs": [
    {
     "data": {
      "text/plain": [
       "{'DHBA', 'EHDAA2', 'FMA', 'HBA', 'HsapDv', 'KUPO'}"
      ]
     },
     "execution_count": 14,
     "metadata": {},
     "output_type": "execute_result"
    }
   ],
   "source": [
    "# Extract xref resources that indication human terms\n",
    "human_xrefs = set()\n",
    "for x in ontology.graph['treat-xrefs-as-reverse-genus-differentia']:\n",
    "    resource, relationship, genus = x.split(' ')\n",
    "    if genus == 'NCBITaxon:9606':\n",
    "        human_xrefs.add(resource)\n",
    "human_xrefs"
   ]
  },
  {
   "cell_type": "code",
   "execution_count": 15,
   "metadata": {},
   "outputs": [],
   "source": [
    "# Parse xrefs and add as node attribute\n",
    "for node, data in ontology.nodes(data=True):\n",
    "    data['xrefs'] = [xref.split(':', 1) for xref in data.get('xref', [])]"
   ]
  },
  {
   "cell_type": "code",
   "execution_count": 16,
   "metadata": {},
   "outputs": [],
   "source": [
    "def get_children(graph, node, in_keys = {'is_a', 'part_of'}, out_keys = set()):\n",
    "    children = set()\n",
    "    for u, v, key in graph.in_edges(node, keys=True):\n",
    "        if key in in_keys:\n",
    "            children.add(u)\n",
    "            children |= get_children(graph, u)\n",
    "    for u, v, key in graph.out_edges(node, keys=True):\n",
    "        if key in out_keys:\n",
    "            children.add(v)\n",
    "            children |= get_children(graph, v)\n",
    "    return children"
   ]
  },
  {
   "cell_type": "code",
   "execution_count": 24,
   "metadata": {},
   "outputs": [],
   "source": [
    "# Extract MeSH cross-references\n",
    "rows = []\n",
    "for node, data in ontology.nodes(data=True):\n",
    "    if not node.startswith('UBERON:'):\n",
    "        continue\n",
    "    xrefs = data['xrefs']\n",
    "    \n",
    "    # Find whether term is in humans by seeing if node or its children\n",
    "    # xref specific human terminologies\n",
    "    children = get_children(ontology, node, in_keys = {'is_a', 'part_of', 'develops_from'})\n",
    "    child_xrefs = set()\n",
    "    for child in children | {node}:\n",
    "        child_xrefs |= {xref[0] for xref in ontology.nodes[child]['xrefs']}\n",
    "    human = int(bool(child_xrefs & human_xrefs))\n",
    "    \n",
    "    rows.append([node, data['name'], human])\n",
    "\n",
    "pos_df = pandas.DataFrame(rows, columns=['uberon_id', 'uberon_name', 'positive_evidence'])"
   ]
  },
  {
   "cell_type": "code",
   "execution_count": 26,
   "metadata": {},
   "outputs": [
    {
     "data": {
      "text/html": [
       "<div>\n",
       "<style scoped>\n",
       "    .dataframe tbody tr th:only-of-type {\n",
       "        vertical-align: middle;\n",
       "    }\n",
       "\n",
       "    .dataframe tbody tr th {\n",
       "        vertical-align: top;\n",
       "    }\n",
       "\n",
       "    .dataframe thead th {\n",
       "        text-align: right;\n",
       "    }\n",
       "</style>\n",
       "<table border=\"1\" class=\"dataframe\">\n",
       "  <thead>\n",
       "    <tr style=\"text-align: right;\">\n",
       "      <th></th>\n",
       "      <th>uberon_id</th>\n",
       "      <th>uberon_name</th>\n",
       "      <th>positive_evidence</th>\n",
       "    </tr>\n",
       "  </thead>\n",
       "  <tbody>\n",
       "    <tr>\n",
       "      <th>20</th>\n",
       "      <td>UBERON:0000022</td>\n",
       "      <td>feather</td>\n",
       "      <td>0</td>\n",
       "    </tr>\n",
       "  </tbody>\n",
       "</table>\n",
       "</div>"
      ],
      "text/plain": [
       "         uberon_id uberon_name  positive_evidence\n",
       "20  UBERON:0000022     feather                  0"
      ]
     },
     "execution_count": 26,
     "metadata": {},
     "output_type": "execute_result"
    }
   ],
   "source": [
    "pos_df[pos_df['uberon_id']=='UBERON:0000022']"
   ]
  },
  {
   "cell_type": "code",
   "execution_count": 10,
   "metadata": {},
   "outputs": [],
   "source": [
    "# create negative evidence df\n",
    "# Read obo into graph\n",
    "with open(os.path.join(download_dir, 'uberon.obo')) as read_file:\n",
    "    ext_obo = obonet.read_obo(read_file)\n",
    "# Extract information from the graph\n",
    "term_rows = []\n",
    "err_nodes = []\n",
    "for node, data in ext_obo.nodes(data=True):\n",
    "    try:\n",
    "        term_rows.append((node, data['name']))\n",
    "    except:\n",
    "        err_nodes.append(node)\n",
    "ext_df = pandas.DataFrame(term_rows, columns=['Uberon ID', 'Uberon name'])\n",
    "\n",
    "# Read obo into graph\n",
    "with open(os.path.join(download_dir, 'human-view.obo')) as read_file:\n",
    "    human_obo = obonet.read_obo(read_file)\n",
    "# Extract information from the graph\n",
    "term_rows = []\n",
    "err_nodes = []\n",
    "for node, data in human_obo.nodes(data=True):\n",
    "    try:\n",
    "        term_rows.append((node, data['name']))\n",
    "    except:\n",
    "        err_nodes.append(node)\n",
    "human_df = pandas.DataFrame(term_rows, columns=['Uberon ID', 'Uberon name'])\n",
    "\n",
    "# Merge the dataframes\n",
    "ext_human_df = pandas.merge(ext_df, human_df, on='Uberon ID', how='left', suffixes=('', ' human'))\n",
    "\n",
    "# Add a column to indicate which rows are present in the second dataframe\n",
    "ext_human_df['9606'] = ext_human_df['Uberon name human'].notnull()\n",
    "ext_human_df['9606'] = ext_human_df['9606'].map(lambda x: 'T' if x else 'F')\n",
    "ext_human_df.drop(columns=['Uberon name human'], inplace=True)\n",
    "\n",
    "ext_human_df.to_csv(os.path.join(download_dir, 'ext_human_constraints.csv'),index=False)\n",
    "ext_human_df\n",
    "#24945"
   ]
  },
  {
   "cell_type": "code",
   "execution_count": 34,
   "metadata": {},
   "outputs": [
    {
     "data": {
      "text/html": [
       "<div>\n",
       "<style scoped>\n",
       "    .dataframe tbody tr th:only-of-type {\n",
       "        vertical-align: middle;\n",
       "    }\n",
       "\n",
       "    .dataframe tbody tr th {\n",
       "        vertical-align: top;\n",
       "    }\n",
       "\n",
       "    .dataframe thead th {\n",
       "        text-align: right;\n",
       "    }\n",
       "</style>\n",
       "<table border=\"1\" class=\"dataframe\">\n",
       "  <thead>\n",
       "    <tr style=\"text-align: right;\">\n",
       "      <th></th>\n",
       "      <th>Uberon ID</th>\n",
       "      <th>Uberon name</th>\n",
       "    </tr>\n",
       "  </thead>\n",
       "  <tbody>\n",
       "    <tr>\n",
       "      <th>0</th>\n",
       "      <td>CL:0000000</td>\n",
       "      <td>cell</td>\n",
       "    </tr>\n",
       "    <tr>\n",
       "      <th>1</th>\n",
       "      <td>CL:0000008</td>\n",
       "      <td>migratory cranial neural crest cell</td>\n",
       "    </tr>\n",
       "    <tr>\n",
       "      <th>2</th>\n",
       "      <td>CL:0000011</td>\n",
       "      <td>migratory trunk neural crest cell</td>\n",
       "    </tr>\n",
       "    <tr>\n",
       "      <th>3</th>\n",
       "      <td>CL:0000019</td>\n",
       "      <td>sperm</td>\n",
       "    </tr>\n",
       "    <tr>\n",
       "      <th>4</th>\n",
       "      <td>CL:0000020</td>\n",
       "      <td>spermatogonium</td>\n",
       "    </tr>\n",
       "    <tr>\n",
       "      <th>...</th>\n",
       "      <td>...</td>\n",
       "      <td>...</td>\n",
       "    </tr>\n",
       "    <tr>\n",
       "      <th>14501</th>\n",
       "      <td>UBERON:8600045</td>\n",
       "      <td>right lateral wall of urinary bladder</td>\n",
       "    </tr>\n",
       "    <tr>\n",
       "      <th>14502</th>\n",
       "      <td>UBERON:8600046</td>\n",
       "      <td>anterior wall of urinary bladder</td>\n",
       "    </tr>\n",
       "    <tr>\n",
       "      <th>14503</th>\n",
       "      <td>UBERON:8600047</td>\n",
       "      <td>posterior wall of urinary bladder</td>\n",
       "    </tr>\n",
       "    <tr>\n",
       "      <th>14504</th>\n",
       "      <td>UBERON:8600048</td>\n",
       "      <td>apex of urinary bladder</td>\n",
       "    </tr>\n",
       "    <tr>\n",
       "      <th>14505</th>\n",
       "      <td>UBERON:8600049</td>\n",
       "      <td>dome of urinary bladder</td>\n",
       "    </tr>\n",
       "  </tbody>\n",
       "</table>\n",
       "<p>14506 rows × 2 columns</p>\n",
       "</div>"
      ],
      "text/plain": [
       "            Uberon ID                            Uberon name\n",
       "0          CL:0000000                                   cell\n",
       "1          CL:0000008    migratory cranial neural crest cell\n",
       "2          CL:0000011      migratory trunk neural crest cell\n",
       "3          CL:0000019                                  sperm\n",
       "4          CL:0000020                         spermatogonium\n",
       "...               ...                                    ...\n",
       "14501  UBERON:8600045  right lateral wall of urinary bladder\n",
       "14502  UBERON:8600046       anterior wall of urinary bladder\n",
       "14503  UBERON:8600047      posterior wall of urinary bladder\n",
       "14504  UBERON:8600048                apex of urinary bladder\n",
       "14505  UBERON:8600049                dome of urinary bladder\n",
       "\n",
       "[14506 rows x 2 columns]"
      ]
     },
     "execution_count": 34,
     "metadata": {},
     "output_type": "execute_result"
    }
   ],
   "source": [
    "# Read obo into graph\n",
    "with open(os.path.join(download_dir, 'human-view.obo')) as read_file:\n",
    "    human_obo = obonet.read_obo(read_file)\n",
    "# Extract information from the graph\n",
    "term_rows = []\n",
    "err_nodes = []\n",
    "for node, data in human_obo.nodes(data=True):\n",
    "    try:\n",
    "        term_rows.append((node, data['name']))\n",
    "    except:\n",
    "        err_nodes.append(node)\n",
    "human_df = pandas.DataFrame(term_rows, columns=['Uberon ID', 'Uberon name'])\n",
    "human_df"
   ]
  },
  {
   "cell_type": "code",
   "execution_count": 35,
   "metadata": {},
   "outputs": [
    {
     "data": {
      "text/html": [
       "<div>\n",
       "<style scoped>\n",
       "    .dataframe tbody tr th:only-of-type {\n",
       "        vertical-align: middle;\n",
       "    }\n",
       "\n",
       "    .dataframe tbody tr th {\n",
       "        vertical-align: top;\n",
       "    }\n",
       "\n",
       "    .dataframe thead th {\n",
       "        text-align: right;\n",
       "    }\n",
       "</style>\n",
       "<table border=\"1\" class=\"dataframe\">\n",
       "  <thead>\n",
       "    <tr style=\"text-align: right;\">\n",
       "      <th></th>\n",
       "      <th>Uberon ID</th>\n",
       "      <th>Uberon name</th>\n",
       "    </tr>\n",
       "  </thead>\n",
       "  <tbody>\n",
       "    <tr>\n",
       "      <th>260</th>\n",
       "      <td>UBERON:0000022</td>\n",
       "      <td>feather</td>\n",
       "    </tr>\n",
       "  </tbody>\n",
       "</table>\n",
       "</div>"
      ],
      "text/plain": [
       "          Uberon ID Uberon name\n",
       "260  UBERON:0000022     feather"
      ]
     },
     "execution_count": 35,
     "metadata": {},
     "output_type": "execute_result"
    }
   ],
   "source": [
    "human_df[human_df['Uberon ID']=='UBERON:0000022']"
   ]
  },
  {
   "cell_type": "code",
   "execution_count": 31,
   "metadata": {},
   "outputs": [],
   "source": [
    "# Read negative evidence df\n",
    "#neg_df = pandas.read_table('https://raw.githubusercontent.com/dhimmel/uberon/gh-pages/download/ext_human_constraints.tsv')\n",
    "#17066\n",
    "neg_df = pandas.read_table('../data/Uberon/ext_human_constraints.csv', sep=',')\n",
    "neg_df = neg_df.rename(columns={'Uberon ID': 'uberon_id', '9606': 'no_negative_evidence'})\n",
    "neg_df = neg_df[['uberon_id', 'no_negative_evidence']]\n",
    "neg_df.no_negative_evidence = (neg_df.no_negative_evidence  == 'T').astype(int)"
   ]
  },
  {
   "cell_type": "code",
   "execution_count": 33,
   "metadata": {},
   "outputs": [
    {
     "data": {
      "text/html": [
       "<div>\n",
       "<style scoped>\n",
       "    .dataframe tbody tr th:only-of-type {\n",
       "        vertical-align: middle;\n",
       "    }\n",
       "\n",
       "    .dataframe tbody tr th {\n",
       "        vertical-align: top;\n",
       "    }\n",
       "\n",
       "    .dataframe thead th {\n",
       "        text-align: right;\n",
       "    }\n",
       "</style>\n",
       "<table border=\"1\" class=\"dataframe\">\n",
       "  <thead>\n",
       "    <tr style=\"text-align: right;\">\n",
       "      <th></th>\n",
       "      <th>uberon_id</th>\n",
       "      <th>no_negative_evidence</th>\n",
       "    </tr>\n",
       "  </thead>\n",
       "  <tbody>\n",
       "    <tr>\n",
       "      <th>10485</th>\n",
       "      <td>UBERON:0000022</td>\n",
       "      <td>1</td>\n",
       "    </tr>\n",
       "  </tbody>\n",
       "</table>\n",
       "</div>"
      ],
      "text/plain": [
       "            uberon_id  no_negative_evidence\n",
       "10485  UBERON:0000022                     1"
      ]
     },
     "execution_count": 33,
     "metadata": {},
     "output_type": "execute_result"
    }
   ],
   "source": [
    "neg_df[neg_df['uberon_id']=='UBERON:0000022']"
   ]
  },
  {
   "cell_type": "code",
   "execution_count": 36,
   "metadata": {
    "scrolled": true
   },
   "outputs": [
    {
     "data": {
      "text/html": [
       "<div>\n",
       "<style scoped>\n",
       "    .dataframe tbody tr th:only-of-type {\n",
       "        vertical-align: middle;\n",
       "    }\n",
       "\n",
       "    .dataframe tbody tr th {\n",
       "        vertical-align: top;\n",
       "    }\n",
       "\n",
       "    .dataframe thead th {\n",
       "        text-align: right;\n",
       "    }\n",
       "</style>\n",
       "<table border=\"1\" class=\"dataframe\">\n",
       "  <thead>\n",
       "    <tr style=\"text-align: right;\">\n",
       "      <th></th>\n",
       "      <th>uberon_id</th>\n",
       "      <th>uberon_name</th>\n",
       "      <th>positive_evidence</th>\n",
       "      <th>no_negative_evidence</th>\n",
       "    </tr>\n",
       "  </thead>\n",
       "  <tbody>\n",
       "    <tr>\n",
       "      <th>0</th>\n",
       "      <td>UBERON:0000000</td>\n",
       "      <td>processual entity</td>\n",
       "      <td>1</td>\n",
       "      <td>1</td>\n",
       "    </tr>\n",
       "    <tr>\n",
       "      <th>1</th>\n",
       "      <td>UBERON:0000002</td>\n",
       "      <td>uterine cervix</td>\n",
       "      <td>1</td>\n",
       "      <td>1</td>\n",
       "    </tr>\n",
       "    <tr>\n",
       "      <th>2</th>\n",
       "      <td>UBERON:0000003</td>\n",
       "      <td>naris</td>\n",
       "      <td>1</td>\n",
       "      <td>1</td>\n",
       "    </tr>\n",
       "    <tr>\n",
       "      <th>3</th>\n",
       "      <td>UBERON:0000004</td>\n",
       "      <td>nose</td>\n",
       "      <td>1</td>\n",
       "      <td>1</td>\n",
       "    </tr>\n",
       "    <tr>\n",
       "      <th>4</th>\n",
       "      <td>UBERON:0000005</td>\n",
       "      <td>chemosensory organ</td>\n",
       "      <td>1</td>\n",
       "      <td>1</td>\n",
       "    </tr>\n",
       "    <tr>\n",
       "      <th>...</th>\n",
       "      <td>...</td>\n",
       "      <td>...</td>\n",
       "      <td>...</td>\n",
       "      <td>...</td>\n",
       "    </tr>\n",
       "    <tr>\n",
       "      <th>14475</th>\n",
       "      <td>UBERON:8600045</td>\n",
       "      <td>right lateral wall of urinary bladder</td>\n",
       "      <td>1</td>\n",
       "      <td>1</td>\n",
       "    </tr>\n",
       "    <tr>\n",
       "      <th>14476</th>\n",
       "      <td>UBERON:8600046</td>\n",
       "      <td>anterior wall of urinary bladder</td>\n",
       "      <td>1</td>\n",
       "      <td>1</td>\n",
       "    </tr>\n",
       "    <tr>\n",
       "      <th>14477</th>\n",
       "      <td>UBERON:8600047</td>\n",
       "      <td>posterior wall of urinary bladder</td>\n",
       "      <td>1</td>\n",
       "      <td>1</td>\n",
       "    </tr>\n",
       "    <tr>\n",
       "      <th>14478</th>\n",
       "      <td>UBERON:8600048</td>\n",
       "      <td>apex of urinary bladder</td>\n",
       "      <td>1</td>\n",
       "      <td>1</td>\n",
       "    </tr>\n",
       "    <tr>\n",
       "      <th>14479</th>\n",
       "      <td>UBERON:8600049</td>\n",
       "      <td>dome of urinary bladder</td>\n",
       "      <td>1</td>\n",
       "      <td>1</td>\n",
       "    </tr>\n",
       "  </tbody>\n",
       "</table>\n",
       "<p>14480 rows × 4 columns</p>\n",
       "</div>"
      ],
      "text/plain": [
       "            uberon_id                            uberon_name  \\\n",
       "0      UBERON:0000000                      processual entity   \n",
       "1      UBERON:0000002                         uterine cervix   \n",
       "2      UBERON:0000003                                  naris   \n",
       "3      UBERON:0000004                                   nose   \n",
       "4      UBERON:0000005                     chemosensory organ   \n",
       "...               ...                                    ...   \n",
       "14475  UBERON:8600045  right lateral wall of urinary bladder   \n",
       "14476  UBERON:8600046       anterior wall of urinary bladder   \n",
       "14477  UBERON:8600047      posterior wall of urinary bladder   \n",
       "14478  UBERON:8600048                apex of urinary bladder   \n",
       "14479  UBERON:8600049                dome of urinary bladder   \n",
       "\n",
       "       positive_evidence  no_negative_evidence  \n",
       "0                      1                     1  \n",
       "1                      1                     1  \n",
       "2                      1                     1  \n",
       "3                      1                     1  \n",
       "4                      1                     1  \n",
       "...                  ...                   ...  \n",
       "14475                  1                     1  \n",
       "14476                  1                     1  \n",
       "14477                  1                     1  \n",
       "14478                  1                     1  \n",
       "14479                  1                     1  \n",
       "\n",
       "[14480 rows x 4 columns]"
      ]
     },
     "execution_count": 36,
     "metadata": {},
     "output_type": "execute_result"
    }
   ],
   "source": [
    "human_df = pos_df.merge(neg_df) #result does not change after merge\n",
    "human_df.to_csv(os.path.join(download_dir, 'human-constraint.tsv'), sep='\\t', index=False)\n",
    "human_df "
   ]
  },
  {
   "cell_type": "markdown",
   "metadata": {},
   "source": [
    "## Process"
   ]
  },
  {
   "cell_type": "code",
   "execution_count": 41,
   "metadata": {},
   "outputs": [],
   "source": [
    "import collections\n",
    "import re\n",
    "\n",
    "import pandas\n",
    "\n",
    "import obonet"
   ]
  },
  {
   "cell_type": "markdown",
   "metadata": {},
   "source": [
    "Download most recent uberon release\n",
    "\n",
    "•\thttp://purl.obolibrary.org/obo/uberon/uberon-basic.obo\n",
    "\n",
    "•\thttp://purl.obolibrary.org/obo/uberon/uberon-ext.obo\n",
    "\n",
    "! wget --no-verbose --timestamping --directory-prefix download/ http://purl.obolibrary.org/obo/uberon/ext.obo\n",
    "! wget --no-verbose --timestamping --directory-prefix download/ http://purl.obolibrary.org/obo/uberon/basic.obo"
   ]
  },
  {
   "cell_type": "code",
   "execution_count": 42,
   "metadata": {},
   "outputs": [
    {
     "data": {
      "text/plain": [
       "{'present_in_taxon': 2092,\n",
       " 'is_a': 20506,\n",
       " 'part_of': 9058,\n",
       " 'develops_from': 1330,\n",
       " 'fma_set_term': 43,\n",
       " 'immediate_transformation_of': 71,\n",
       " 'never_in_taxon': 301,\n",
       " 'mutually_spatially_disjoint_with': 794,\n",
       " 'dc-contributor': 837,\n",
       " 'dubious_for_taxon': 43,\n",
       " 'seeAlso': 21,\n",
       " 'transformation_of': 47,\n",
       " 'has_no_connections_with': 2,\n",
       " 'ambiguous_for_taxon': 4,\n",
       " 'implements_design_pattern': 5,\n",
       " 'source_atlas': 11}"
      ]
     },
     "execution_count": 42,
     "metadata": {},
     "output_type": "execute_result"
    }
   ],
   "source": [
    "# Read obo into graph\n",
    "with open(path) as read_file:\n",
    "    basic = obonet.read_obo(read_file)\n",
    "dict(collections.Counter(key for u, v, key in basic.edges(keys=True)))"
   ]
  },
  {
   "cell_type": "code",
   "execution_count": 43,
   "metadata": {},
   "outputs": [],
   "source": [
    "# Extract information from the graph\n",
    "term_rows = []\n",
    "xref_rows = []\n",
    "subset_rows = []\n",
    "\n",
    "for node, data in basic.nodes(data=True):\n",
    "    if 'name' in data.keys():\n",
    "        term_rows.append((node, data['name']))\n",
    "    else:\n",
    "        break\n",
    "    \n",
    "    for xref in data.get('xref', []):\n",
    "        xref_rows.append((node, xref))\n",
    "\n",
    "    for subset in data.get('subset', []):\n",
    "        subset_rows.append((node, subset))\n",
    "\n",
    "term_df = pandas.DataFrame(term_rows, columns=['uberon_id', 'uberon_name']).sort_values(['uberon_id', 'uberon_name'])\n",
    "xref_df = pandas.DataFrame(xref_rows, columns=['uberon_id', 'xref']).sort_values(['uberon_id', 'xref'])\n",
    "subset_df = pandas.DataFrame(subset_rows, columns=['uberon_id', 'subset']).sort_values(['uberon_id', 'subset'])"
   ]
  },
  {
   "cell_type": "code",
   "execution_count": 28,
   "metadata": {},
   "outputs": [
    {
     "data": {
      "text/html": [
       "<div>\n",
       "<style scoped>\n",
       "    .dataframe tbody tr th:only-of-type {\n",
       "        vertical-align: middle;\n",
       "    }\n",
       "\n",
       "    .dataframe tbody tr th {\n",
       "        vertical-align: top;\n",
       "    }\n",
       "\n",
       "    .dataframe thead th {\n",
       "        text-align: right;\n",
       "    }\n",
       "</style>\n",
       "<table border=\"1\" class=\"dataframe\">\n",
       "  <thead>\n",
       "    <tr style=\"text-align: right;\">\n",
       "      <th></th>\n",
       "      <th>uberon_id</th>\n",
       "      <th>uberon_name</th>\n",
       "    </tr>\n",
       "  </thead>\n",
       "  <tbody>\n",
       "    <tr>\n",
       "      <th>0</th>\n",
       "      <td>UBERON:0000000</td>\n",
       "      <td>processual entity</td>\n",
       "    </tr>\n",
       "    <tr>\n",
       "      <th>1</th>\n",
       "      <td>UBERON:0000002</td>\n",
       "      <td>uterine cervix</td>\n",
       "    </tr>\n",
       "    <tr>\n",
       "      <th>2</th>\n",
       "      <td>UBERON:0000003</td>\n",
       "      <td>naris</td>\n",
       "    </tr>\n",
       "    <tr>\n",
       "      <th>3</th>\n",
       "      <td>UBERON:0000004</td>\n",
       "      <td>nose</td>\n",
       "    </tr>\n",
       "    <tr>\n",
       "      <th>4</th>\n",
       "      <td>UBERON:0000005</td>\n",
       "      <td>chemosensory organ</td>\n",
       "    </tr>\n",
       "  </tbody>\n",
       "</table>\n",
       "</div>"
      ],
      "text/plain": [
       "        uberon_id         uberon_name\n",
       "0  UBERON:0000000   processual entity\n",
       "1  UBERON:0000002      uterine cervix\n",
       "2  UBERON:0000003               naris\n",
       "3  UBERON:0000004                nose\n",
       "4  UBERON:0000005  chemosensory organ"
      ]
     },
     "execution_count": 28,
     "metadata": {},
     "output_type": "execute_result"
    }
   ],
   "source": [
    "# Create a dataframe of Uberon terms\n",
    "term_df.to_csv(os.path.join(download_dir, 'terms.tsv'), sep='\\t', index=False)\n",
    "term_df.head()"
   ]
  },
  {
   "cell_type": "code",
   "execution_count": 29,
   "metadata": {},
   "outputs": [
    {
     "data": {
      "text/html": [
       "<div>\n",
       "<style scoped>\n",
       "    .dataframe tbody tr th:only-of-type {\n",
       "        vertical-align: middle;\n",
       "    }\n",
       "\n",
       "    .dataframe tbody tr th {\n",
       "        vertical-align: top;\n",
       "    }\n",
       "\n",
       "    .dataframe thead th {\n",
       "        text-align: right;\n",
       "    }\n",
       "</style>\n",
       "<table border=\"1\" class=\"dataframe\">\n",
       "  <thead>\n",
       "    <tr style=\"text-align: right;\">\n",
       "      <th></th>\n",
       "      <th>uberon_id</th>\n",
       "      <th>xref</th>\n",
       "    </tr>\n",
       "  </thead>\n",
       "  <tbody>\n",
       "    <tr>\n",
       "      <th>0</th>\n",
       "      <td>UBERON:0000000</td>\n",
       "      <td>BFO:0000003</td>\n",
       "    </tr>\n",
       "    <tr>\n",
       "      <th>1</th>\n",
       "      <td>UBERON:0000002</td>\n",
       "      <td>BTO:0001421</td>\n",
       "    </tr>\n",
       "    <tr>\n",
       "      <th>2</th>\n",
       "      <td>UBERON:0000002</td>\n",
       "      <td>BTO:0002249</td>\n",
       "    </tr>\n",
       "    <tr>\n",
       "      <th>3</th>\n",
       "      <td>UBERON:0000002</td>\n",
       "      <td>CALOHA:TS-0134</td>\n",
       "    </tr>\n",
       "    <tr>\n",
       "      <th>4</th>\n",
       "      <td>UBERON:0000002</td>\n",
       "      <td>EFO:0000979</td>\n",
       "    </tr>\n",
       "  </tbody>\n",
       "</table>\n",
       "</div>"
      ],
      "text/plain": [
       "        uberon_id            xref\n",
       "0  UBERON:0000000     BFO:0000003\n",
       "1  UBERON:0000002     BTO:0001421\n",
       "2  UBERON:0000002     BTO:0002249\n",
       "3  UBERON:0000002  CALOHA:TS-0134\n",
       "4  UBERON:0000002     EFO:0000979"
      ]
     },
     "execution_count": 29,
     "metadata": {},
     "output_type": "execute_result"
    }
   ],
   "source": [
    "# Update MESH IDs that are tree numbers\n",
    "url = '../data/MeSH/tree-numbers.tsv'\n",
    "tree_number_df = pandas.read_table(url)\n",
    "tn_to_id = dict(zip(tree_number_df.mesh_tree_number, tree_number_df.mesh_id))\n",
    "\n",
    "def update_xref(x):\n",
    "    vocab, identifier = x.split(':', 1)\n",
    "    if vocab == 'MESH':\n",
    "        if re.search('D[0-9]{6}', identifier):\n",
    "            return x\n",
    "        return tn_to_id.get(identifier) or x\n",
    "    return x\n",
    "\n",
    "xref_df.xref = xref_df.xref.map(update_xref)\n",
    "\n",
    "# Create a dataframe of cross-references\n",
    "xref_df.to_csv(os.path.join(download_dir, 'xref.tsv'), sep='\\t', index=False)\n",
    "xref_df.head()"
   ]
  },
  {
   "cell_type": "code",
   "execution_count": 59,
   "metadata": {},
   "outputs": [
    {
     "data": {
      "text/html": [
       "<div>\n",
       "<style scoped>\n",
       "    .dataframe tbody tr th:only-of-type {\n",
       "        vertical-align: middle;\n",
       "    }\n",
       "\n",
       "    .dataframe tbody tr th {\n",
       "        vertical-align: top;\n",
       "    }\n",
       "\n",
       "    .dataframe thead th {\n",
       "        text-align: right;\n",
       "    }\n",
       "</style>\n",
       "<table border=\"1\" class=\"dataframe\">\n",
       "  <thead>\n",
       "    <tr style=\"text-align: right;\">\n",
       "      <th></th>\n",
       "      <th>uberon_id</th>\n",
       "      <th>subset</th>\n",
       "    </tr>\n",
       "  </thead>\n",
       "  <tbody>\n",
       "    <tr>\n",
       "      <th>0</th>\n",
       "      <td>UBERON:0000000</td>\n",
       "      <td>common_anatomy</td>\n",
       "    </tr>\n",
       "    <tr>\n",
       "      <th>1</th>\n",
       "      <td>UBERON:0000000</td>\n",
       "      <td>upper_level</td>\n",
       "    </tr>\n",
       "    <tr>\n",
       "      <th>2</th>\n",
       "      <td>UBERON:0000002</td>\n",
       "      <td>efo_slim</td>\n",
       "    </tr>\n",
       "    <tr>\n",
       "      <th>3</th>\n",
       "      <td>UBERON:0000002</td>\n",
       "      <td>human_reference_atlas</td>\n",
       "    </tr>\n",
       "    <tr>\n",
       "      <th>4</th>\n",
       "      <td>UBERON:0000002</td>\n",
       "      <td>pheno_slim</td>\n",
       "    </tr>\n",
       "  </tbody>\n",
       "</table>\n",
       "</div>"
      ],
      "text/plain": [
       "        uberon_id                 subset\n",
       "0  UBERON:0000000         common_anatomy\n",
       "1  UBERON:0000000            upper_level\n",
       "2  UBERON:0000002               efo_slim\n",
       "3  UBERON:0000002  human_reference_atlas\n",
       "4  UBERON:0000002             pheno_slim"
      ]
     },
     "execution_count": 59,
     "metadata": {},
     "output_type": "execute_result"
    }
   ],
   "source": [
    "# Create a dataframe of term subsets\n",
    "subset_df.to_csv(os.path.join(download_dir, 'subset.tsv'), sep='\\t', index=False)\n",
    "subset_dict = {subset: set(df.uberon_id) for subset, df in subset_df.groupby('subset')}\n",
    "subset_df.head()"
   ]
  },
  {
   "cell_type": "markdown",
   "metadata": {},
   "source": [
    "## Create `hetio-slim`\n",
    "\n",
    "`hetio-slim` is a subset of terms created for our [specific project](https://dx.doi.org/10.15363/thinklab.4):\n",
    "\n",
    "+ potentially human-relevant (definitively non-human terms are removed)\n",
    "+ in `uberon_slim` -- We chose a restrictive subset of Uberon terms because the vast extent of tissue-specific gene expression edges can become computationally troubling. We did not include cell types from the Cell Ontology because this ontology lags behind Uberon in terms of subset assignments, cross-references, and documentation.\n",
    "+ not in `non_informative`, `upper_level`, `grouping_class`\n",
    "+ have a MeSH cross-reference"
   ]
  },
  {
   "cell_type": "code",
   "execution_count": 45,
   "metadata": {},
   "outputs": [],
   "source": [
    "human_df = pandas.read_table(os.path.join(download_dir, 'human-constraint.tsv'))\n",
    "human_ids = set(human_df.query('no_negative_evidence == 1').uberon_id)"
   ]
  },
  {
   "cell_type": "code",
   "execution_count": 65,
   "metadata": {},
   "outputs": [
    {
     "data": {
      "text/html": [
       "<div>\n",
       "<style scoped>\n",
       "    .dataframe tbody tr th:only-of-type {\n",
       "        vertical-align: middle;\n",
       "    }\n",
       "\n",
       "    .dataframe tbody tr th {\n",
       "        vertical-align: top;\n",
       "    }\n",
       "\n",
       "    .dataframe thead th {\n",
       "        text-align: right;\n",
       "    }\n",
       "</style>\n",
       "<table border=\"1\" class=\"dataframe\">\n",
       "  <thead>\n",
       "    <tr style=\"text-align: right;\">\n",
       "      <th></th>\n",
       "      <th>uberon_id</th>\n",
       "      <th>uberon_name</th>\n",
       "      <th>mesh_id</th>\n",
       "    </tr>\n",
       "  </thead>\n",
       "  <tbody>\n",
       "    <tr>\n",
       "      <th>11</th>\n",
       "      <td>UBERON:0000002</td>\n",
       "      <td>uterine cervix</td>\n",
       "      <td>D002584</td>\n",
       "    </tr>\n",
       "    <tr>\n",
       "      <th>37</th>\n",
       "      <td>UBERON:0000004</td>\n",
       "      <td>nose</td>\n",
       "      <td>D009666</td>\n",
       "    </tr>\n",
       "    <tr>\n",
       "      <th>57</th>\n",
       "      <td>UBERON:0000006</td>\n",
       "      <td>islet of Langerhans</td>\n",
       "      <td>D007515</td>\n",
       "    </tr>\n",
       "    <tr>\n",
       "      <th>83</th>\n",
       "      <td>UBERON:0000007</td>\n",
       "      <td>pituitary gland</td>\n",
       "      <td>D010902</td>\n",
       "    </tr>\n",
       "    <tr>\n",
       "      <th>117</th>\n",
       "      <td>UBERON:0000010</td>\n",
       "      <td>peripheral nervous system</td>\n",
       "      <td>D017933</td>\n",
       "    </tr>\n",
       "  </tbody>\n",
       "</table>\n",
       "</div>"
      ],
      "text/plain": [
       "          uberon_id                uberon_name  mesh_id\n",
       "11   UBERON:0000002             uterine cervix  D002584\n",
       "37   UBERON:0000004                       nose  D009666\n",
       "57   UBERON:0000006        islet of Langerhans  D007515\n",
       "83   UBERON:0000007            pituitary gland  D010902\n",
       "117  UBERON:0000010  peripheral nervous system  D017933"
      ]
     },
     "execution_count": 65,
     "metadata": {},
     "output_type": "execute_result"
    }
   ],
   "source": [
    "# terms in human.obo, with MeSH xrefs, not in [non_informative, upper_level, grouping_class], and in uberon_slim \n",
    "merged_df = term_df[term_df.uberon_id.isin(human_ids)].merge(xref_df)\n",
    "merged_df['mesh_id'] = merged_df.xref.map(lambda x: x.split(':', 1)[1] if x and x.startswith('MESH:') else '')\n",
    "merged_df = merged_df[merged_df.mesh_id != ''].drop(columns=['xref'])\n",
    "exclude = subset_dict['non_informative'] | subset_dict['upper_level'] | subset_dict['grouping_class']\n",
    "merged_df = merged_df[-merged_df.uberon_id.isin(exclude)]\n",
    "merged_df = merged_df[merged_df.uberon_id.isin(subset_dict['uberon_slim'])]\n",
    "merged_df.head()"
   ]
  },
  {
   "cell_type": "code",
   "execution_count": 33,
   "metadata": {},
   "outputs": [
    {
     "data": {
      "text/plain": [
       "652"
      ]
     },
     "execution_count": 33,
     "metadata": {},
     "output_type": "execute_result"
    }
   ],
   "source": [
    "len(merged_df)"
   ]
  },
  {
   "cell_type": "code",
   "execution_count": 34,
   "metadata": {},
   "outputs": [],
   "source": [
    "# Add mesh_name column\n",
    "url = '../data/MeSH/terms.tsv'\n",
    "mesh_df = pandas.read_table(url)\n",
    "merged_df = merged_df.merge(mesh_df)\n",
    "assert not any(merged_df.uberon_id.duplicated())"
   ]
  },
  {
   "cell_type": "code",
   "execution_count": 35,
   "metadata": {},
   "outputs": [],
   "source": [
    "# Add BTO cross-references. Assumes that uberon-to-bto relationships are one-to-one, which is occaisionally not true.\n",
    "bto_df = xref_df[xref_df.xref.str.startswith('BTO:').fillna(False)]\n",
    "bto_df = bto_df.rename(columns={'xref': 'bto_id'})\n",
    "bto_df = bto_df[bto_df.uberon_id.isin(merged_df.uberon_id)]\n",
    "merged_df = merged_df.merge(bto_df, how='left').drop_duplicates('uberon_id')"
   ]
  },
  {
   "cell_type": "code",
   "execution_count": 36,
   "metadata": {},
   "outputs": [],
   "source": [
    "# Save hetio-slim as a tsv\n",
    "merged_df.to_csv(os.path.join(download_dir, 'hetio-slim.tsv'), index=False, sep='\\t')"
   ]
  },
  {
   "cell_type": "code",
   "execution_count": 37,
   "metadata": {},
   "outputs": [
    {
     "data": {
      "text/plain": [
       "652"
      ]
     },
     "execution_count": 37,
     "metadata": {},
     "output_type": "execute_result"
    }
   ],
   "source": [
    "merged_df['uberon_id'].nunique()"
   ]
  },
  {
   "cell_type": "code",
   "execution_count": 1,
   "metadata": {},
   "outputs": [],
   "source": [
    "from IPython.core.interactiveshell import InteractiveShell\n",
    "InteractiveShell.ast_node_interactivity = \"all\""
   ]
  },
  {
   "cell_type": "code",
   "execution_count": 3,
   "metadata": {},
   "outputs": [
    {
     "data": {
      "text/plain": [
       "652"
      ]
     },
     "execution_count": 3,
     "metadata": {},
     "output_type": "execute_result"
    },
    {
     "data": {
      "text/plain": [
       "402"
      ]
     },
     "execution_count": 3,
     "metadata": {},
     "output_type": "execute_result"
    }
   ],
   "source": [
    "#compare with hetionet version  402 anatomy\n",
    "import pandas \n",
    "merged_df = pandas.read_table('../data/Uberon/hetio-slim.tsv')\n",
    "merged_df['uberon_id'].nunique()\n",
    "\n",
    "anatomy_hetionet = pandas.read_table('https://raw.githubusercontent.com/dhimmel/uberon/gh-pages/data/hetio-slim.tsv') \n",
    "anatomy_hetionet['uberon_id'].nunique()"
   ]
  },
  {
   "cell_type": "code",
   "execution_count": 9,
   "metadata": {},
   "outputs": [],
   "source": [
    "import os \n",
    "download_dir ='../data/Uberon'\n",
    "human_df = pandas.read_table(os.path.join(download_dir, 'hetio-slim.tsv'))"
   ]
  },
  {
   "cell_type": "code",
   "execution_count": 69,
   "metadata": {},
   "outputs": [
    {
     "data": {
      "text/html": [
       "<div>\n",
       "<style scoped>\n",
       "    .dataframe tbody tr th:only-of-type {\n",
       "        vertical-align: middle;\n",
       "    }\n",
       "\n",
       "    .dataframe tbody tr th {\n",
       "        vertical-align: top;\n",
       "    }\n",
       "\n",
       "    .dataframe thead th {\n",
       "        text-align: right;\n",
       "    }\n",
       "</style>\n",
       "<table border=\"1\" class=\"dataframe\">\n",
       "  <thead>\n",
       "    <tr style=\"text-align: right;\">\n",
       "      <th></th>\n",
       "      <th>uberon_id</th>\n",
       "      <th>uberon_name_x</th>\n",
       "      <th>mesh_id_x</th>\n",
       "      <th>uberon_name_y</th>\n",
       "      <th>mesh_id_y</th>\n",
       "      <th>mesh_name</th>\n",
       "      <th>bto_id</th>\n",
       "      <th>_merge</th>\n",
       "    </tr>\n",
       "  </thead>\n",
       "  <tbody>\n",
       "    <tr>\n",
       "      <th>7</th>\n",
       "      <td>UBERON:0000016</td>\n",
       "      <td>endocrine pancreas</td>\n",
       "      <td>D007515</td>\n",
       "      <td>NaN</td>\n",
       "      <td>NaN</td>\n",
       "      <td>NaN</td>\n",
       "      <td>NaN</td>\n",
       "      <td>left_only</td>\n",
       "    </tr>\n",
       "    <tr>\n",
       "      <th>8</th>\n",
       "      <td>UBERON:0000017</td>\n",
       "      <td>exocrine pancreas</td>\n",
       "      <td>D046790</td>\n",
       "      <td>NaN</td>\n",
       "      <td>NaN</td>\n",
       "      <td>NaN</td>\n",
       "      <td>NaN</td>\n",
       "      <td>left_only</td>\n",
       "    </tr>\n",
       "    <tr>\n",
       "      <th>10</th>\n",
       "      <td>UBERON:0000022</td>\n",
       "      <td>feather</td>\n",
       "      <td>D005241</td>\n",
       "      <td>NaN</td>\n",
       "      <td>NaN</td>\n",
       "      <td>NaN</td>\n",
       "      <td>NaN</td>\n",
       "      <td>left_only</td>\n",
       "    </tr>\n",
       "    <tr>\n",
       "      <th>17</th>\n",
       "      <td>UBERON:0000044</td>\n",
       "      <td>dorsal root ganglion</td>\n",
       "      <td>D005727</td>\n",
       "      <td>NaN</td>\n",
       "      <td>NaN</td>\n",
       "      <td>NaN</td>\n",
       "      <td>NaN</td>\n",
       "      <td>left_only</td>\n",
       "    </tr>\n",
       "    <tr>\n",
       "      <th>23</th>\n",
       "      <td>UBERON:0000159</td>\n",
       "      <td>anal canal</td>\n",
       "      <td>D001003</td>\n",
       "      <td>NaN</td>\n",
       "      <td>NaN</td>\n",
       "      <td>NaN</td>\n",
       "      <td>NaN</td>\n",
       "      <td>left_only</td>\n",
       "    </tr>\n",
       "    <tr>\n",
       "      <th>...</th>\n",
       "      <td>...</td>\n",
       "      <td>...</td>\n",
       "      <td>...</td>\n",
       "      <td>...</td>\n",
       "      <td>...</td>\n",
       "      <td>...</td>\n",
       "      <td>...</td>\n",
       "      <td>...</td>\n",
       "    </tr>\n",
       "    <tr>\n",
       "      <th>636</th>\n",
       "      <td>UBERON:0003124</td>\n",
       "      <td>chorion membrane</td>\n",
       "      <td>D002823</td>\n",
       "      <td>NaN</td>\n",
       "      <td>NaN</td>\n",
       "      <td>NaN</td>\n",
       "      <td>NaN</td>\n",
       "      <td>left_only</td>\n",
       "    </tr>\n",
       "    <tr>\n",
       "      <th>638</th>\n",
       "      <td>UBERON:0003128</td>\n",
       "      <td>cranium</td>\n",
       "      <td>D012886</td>\n",
       "      <td>NaN</td>\n",
       "      <td>NaN</td>\n",
       "      <td>NaN</td>\n",
       "      <td>NaN</td>\n",
       "      <td>left_only</td>\n",
       "    </tr>\n",
       "    <tr>\n",
       "      <th>645</th>\n",
       "      <td>UBERON:0004454</td>\n",
       "      <td>tarsal region</td>\n",
       "      <td>D000842</td>\n",
       "      <td>NaN</td>\n",
       "      <td>NaN</td>\n",
       "      <td>NaN</td>\n",
       "      <td>NaN</td>\n",
       "      <td>left_only</td>\n",
       "    </tr>\n",
       "    <tr>\n",
       "      <th>649</th>\n",
       "      <td>UBERON:0005290</td>\n",
       "      <td>myelencephalon</td>\n",
       "      <td>D054024</td>\n",
       "      <td>NaN</td>\n",
       "      <td>NaN</td>\n",
       "      <td>NaN</td>\n",
       "      <td>NaN</td>\n",
       "      <td>left_only</td>\n",
       "    </tr>\n",
       "    <tr>\n",
       "      <th>651</th>\n",
       "      <td>UBERON:0010996</td>\n",
       "      <td>articular cartilage of joint</td>\n",
       "      <td>D002358</td>\n",
       "      <td>NaN</td>\n",
       "      <td>NaN</td>\n",
       "      <td>NaN</td>\n",
       "      <td>NaN</td>\n",
       "      <td>left_only</td>\n",
       "    </tr>\n",
       "  </tbody>\n",
       "</table>\n",
       "<p>250 rows × 8 columns</p>\n",
       "</div>"
      ],
      "text/plain": [
       "          uberon_id                 uberon_name_x mesh_id_x uberon_name_y  \\\n",
       "7    UBERON:0000016            endocrine pancreas   D007515           NaN   \n",
       "8    UBERON:0000017             exocrine pancreas   D046790           NaN   \n",
       "10   UBERON:0000022                       feather   D005241           NaN   \n",
       "17   UBERON:0000044          dorsal root ganglion   D005727           NaN   \n",
       "23   UBERON:0000159                    anal canal   D001003           NaN   \n",
       "..              ...                           ...       ...           ...   \n",
       "636  UBERON:0003124              chorion membrane   D002823           NaN   \n",
       "638  UBERON:0003128                       cranium   D012886           NaN   \n",
       "645  UBERON:0004454                 tarsal region   D000842           NaN   \n",
       "649  UBERON:0005290                myelencephalon   D054024           NaN   \n",
       "651  UBERON:0010996  articular cartilage of joint   D002358           NaN   \n",
       "\n",
       "    mesh_id_y mesh_name bto_id     _merge  \n",
       "7         NaN       NaN    NaN  left_only  \n",
       "8         NaN       NaN    NaN  left_only  \n",
       "10        NaN       NaN    NaN  left_only  \n",
       "17        NaN       NaN    NaN  left_only  \n",
       "23        NaN       NaN    NaN  left_only  \n",
       "..        ...       ...    ...        ...  \n",
       "636       NaN       NaN    NaN  left_only  \n",
       "638       NaN       NaN    NaN  left_only  \n",
       "645       NaN       NaN    NaN  left_only  \n",
       "649       NaN       NaN    NaN  left_only  \n",
       "651       NaN       NaN    NaN  left_only  \n",
       "\n",
       "[250 rows x 8 columns]"
      ]
     },
     "execution_count": 69,
     "metadata": {},
     "output_type": "execute_result"
    }
   ],
   "source": [
    "outer = merged_df.merge(anatomy_hetionet, on=['uberon_id'], how='outer', indicator=True)\n",
    "outer[outer['_merge']=='left_only']\n",
    "outer[outer['_merge']=='left_only'].to_csv(os.path.join(download_dir, 'hetio-slim_new_added.tsv'), index=False, sep='\\t')"
   ]
  },
  {
   "cell_type": "code",
   "execution_count": 67,
   "metadata": {},
   "outputs": [
    {
     "data": {
      "text/html": [
       "<div>\n",
       "<style scoped>\n",
       "    .dataframe tbody tr th:only-of-type {\n",
       "        vertical-align: middle;\n",
       "    }\n",
       "\n",
       "    .dataframe tbody tr th {\n",
       "        vertical-align: top;\n",
       "    }\n",
       "\n",
       "    .dataframe thead th {\n",
       "        text-align: right;\n",
       "    }\n",
       "</style>\n",
       "<table border=\"1\" class=\"dataframe\">\n",
       "  <thead>\n",
       "    <tr style=\"text-align: right;\">\n",
       "      <th></th>\n",
       "      <th>uberon_id</th>\n",
       "      <th>uberon_name_x</th>\n",
       "      <th>mesh_id_x</th>\n",
       "      <th>uberon_name_y</th>\n",
       "      <th>mesh_id_y</th>\n",
       "      <th>mesh_name</th>\n",
       "      <th>bto_id</th>\n",
       "      <th>_merge</th>\n",
       "    </tr>\n",
       "  </thead>\n",
       "  <tbody>\n",
       "  </tbody>\n",
       "</table>\n",
       "</div>"
      ],
      "text/plain": [
       "Empty DataFrame\n",
       "Columns: [uberon_id, uberon_name_x, mesh_id_x, uberon_name_y, mesh_id_y, mesh_name, bto_id, _merge]\n",
       "Index: []"
      ]
     },
     "execution_count": 67,
     "metadata": {},
     "output_type": "execute_result"
    }
   ],
   "source": [
    "outer[outer['_merge']=='right_only']"
   ]
  },
  {
   "cell_type": "code",
   "execution_count": 10,
   "metadata": {},
   "outputs": [
    {
     "data": {
      "text/html": [
       "<div>\n",
       "<style scoped>\n",
       "    .dataframe tbody tr th:only-of-type {\n",
       "        vertical-align: middle;\n",
       "    }\n",
       "\n",
       "    .dataframe tbody tr th {\n",
       "        vertical-align: top;\n",
       "    }\n",
       "\n",
       "    .dataframe thead th {\n",
       "        text-align: right;\n",
       "    }\n",
       "</style>\n",
       "<table border=\"1\" class=\"dataframe\">\n",
       "  <thead>\n",
       "    <tr style=\"text-align: right;\">\n",
       "      <th></th>\n",
       "      <th>uberon_id</th>\n",
       "      <th>uberon_name</th>\n",
       "      <th>positive_evidence</th>\n",
       "      <th>no_negative_evidence</th>\n",
       "    </tr>\n",
       "  </thead>\n",
       "  <tbody>\n",
       "    <tr>\n",
       "      <th>20</th>\n",
       "      <td>UBERON:0000022</td>\n",
       "      <td>feather</td>\n",
       "      <td>0</td>\n",
       "      <td>1</td>\n",
       "    </tr>\n",
       "  </tbody>\n",
       "</table>\n",
       "</div>"
      ],
      "text/plain": [
       "         uberon_id uberon_name  positive_evidence  no_negative_evidence\n",
       "20  UBERON:0000022     feather                  0                     1"
      ]
     },
     "execution_count": 10,
     "metadata": {},
     "output_type": "execute_result"
    }
   ],
   "source": [
    "human_df[human_df['uberon_id']=='UBERON:0000022']"
   ]
  },
  {
   "cell_type": "code",
   "execution_count": null,
   "metadata": {},
   "outputs": [],
   "source": []
  }
 ],
 "metadata": {
  "kernelspec": {
   "display_name": "Python 3 (ipykernel)",
   "language": "python",
   "name": "python3"
  },
  "language_info": {
   "codemirror_mode": {
    "name": "ipython",
    "version": 3
   },
   "file_extension": ".py",
   "mimetype": "text/x-python",
   "name": "python",
   "nbconvert_exporter": "python",
   "pygments_lexer": "ipython3",
   "version": "3.9.13"
  }
 },
 "nbformat": 4,
 "nbformat_minor": 1
}
